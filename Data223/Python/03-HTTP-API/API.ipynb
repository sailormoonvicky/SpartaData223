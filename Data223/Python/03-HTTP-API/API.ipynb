{
 "cells": [
  {
   "attachments": {},
   "cell_type": "markdown",
   "metadata": {},
   "source": [
    "# Get request "
   ]
  },
  {
   "cell_type": "code",
   "execution_count": 3,
   "metadata": {},
   "outputs": [],
   "source": [
    "\n",
    "import requests\n"
   ]
  },
  {
   "cell_type": "code",
   "execution_count": 4,
   "metadata": {},
   "outputs": [],
   "source": [
    "import json"
   ]
  },
  {
   "cell_type": "code",
   "execution_count": 5,
   "metadata": {},
   "outputs": [],
   "source": [
    "response = requests.get(\"https://api.postcodes.io/postcodes/NW35RL\")"
   ]
  },
  {
   "cell_type": "code",
   "execution_count": 6,
   "metadata": {},
   "outputs": [
    {
     "data": {
      "text/plain": [
       "200"
      ]
     },
     "execution_count": 6,
     "metadata": {},
     "output_type": "execute_result"
    }
   ],
   "source": [
    "response.status_code"
   ]
  },
  {
   "cell_type": "code",
   "execution_count": 7,
   "metadata": {},
   "outputs": [
    {
     "data": {
      "text/plain": [
       "requests.models.Response"
      ]
     },
     "execution_count": 7,
     "metadata": {},
     "output_type": "execute_result"
    }
   ],
   "source": [
    "type(response)"
   ]
  },
  {
   "cell_type": "code",
   "execution_count": 8,
   "metadata": {},
   "outputs": [
    {
     "data": {
      "text/plain": [
       "{'status': 200,\n",
       " 'result': {'postcode': 'NW3 5RL',\n",
       "  'quality': 1,\n",
       "  'eastings': 526322,\n",
       "  'northings': 185109,\n",
       "  'country': 'England',\n",
       "  'nhs_ha': 'London',\n",
       "  'longitude': -0.179487,\n",
       "  'latitude': 51.550738,\n",
       "  'european_electoral_region': 'London',\n",
       "  'primary_care_trust': 'Camden',\n",
       "  'region': 'London',\n",
       "  'lsoa': 'Camden 004B',\n",
       "  'msoa': 'Camden 004',\n",
       "  'incode': '5RL',\n",
       "  'outcode': 'NW3',\n",
       "  'parliamentary_constituency': 'Hampstead and Kilburn',\n",
       "  'admin_district': 'Camden',\n",
       "  'parish': 'Camden, unparished area',\n",
       "  'admin_county': None,\n",
       "  'date_of_introduction': '198001',\n",
       "  'admin_ward': 'Belsize',\n",
       "  'ced': None,\n",
       "  'ccg': 'NHS North Central London',\n",
       "  'nuts': 'Camden and City of London',\n",
       "  'pfa': 'Metropolitan Police',\n",
       "  'codes': {'admin_district': 'E09000007',\n",
       "   'admin_county': 'E99999999',\n",
       "   'admin_ward': 'E05013652',\n",
       "   'parish': 'E43000197',\n",
       "   'parliamentary_constituency': 'E14000727',\n",
       "   'ccg': 'E38000240',\n",
       "   'ccg_id': '93C',\n",
       "   'ced': 'E99999999',\n",
       "   'nuts': 'TLI31',\n",
       "   'lsoa': 'E01000879',\n",
       "   'msoa': 'E02000169',\n",
       "   'lau2': 'E09000007',\n",
       "   'pfa': 'E23000001'}}}"
      ]
     },
     "execution_count": 8,
     "metadata": {},
     "output_type": "execute_result"
    }
   ],
   "source": [
    "api_response = response.json()\n",
    "api_response"
   ]
  },
  {
   "cell_type": "code",
   "execution_count": 10,
   "metadata": {},
   "outputs": [
    {
     "data": {
      "text/plain": [
       "{'postcode': 'NW3 5RL',\n",
       " 'quality': 1,\n",
       " 'eastings': 526322,\n",
       " 'northings': 185109,\n",
       " 'country': 'England',\n",
       " 'nhs_ha': 'London',\n",
       " 'longitude': -0.179487,\n",
       " 'latitude': 51.550738,\n",
       " 'european_electoral_region': 'London',\n",
       " 'primary_care_trust': 'Camden',\n",
       " 'region': 'London',\n",
       " 'lsoa': 'Camden 004B',\n",
       " 'msoa': 'Camden 004',\n",
       " 'incode': '5RL',\n",
       " 'outcode': 'NW3',\n",
       " 'parliamentary_constituency': 'Hampstead and Kilburn',\n",
       " 'admin_district': 'Camden',\n",
       " 'parish': 'Camden, unparished area',\n",
       " 'admin_county': None,\n",
       " 'date_of_introduction': '198001',\n",
       " 'admin_ward': 'Belsize',\n",
       " 'ced': None,\n",
       " 'ccg': 'NHS North Central London',\n",
       " 'nuts': 'Camden and City of London',\n",
       " 'pfa': 'Metropolitan Police',\n",
       " 'codes': {'admin_district': 'E09000007',\n",
       "  'admin_county': 'E99999999',\n",
       "  'admin_ward': 'E05013652',\n",
       "  'parish': 'E43000197',\n",
       "  'parliamentary_constituency': 'E14000727',\n",
       "  'ccg': 'E38000240',\n",
       "  'ccg_id': '93C',\n",
       "  'ced': 'E99999999',\n",
       "  'nuts': 'TLI31',\n",
       "  'lsoa': 'E01000879',\n",
       "  'msoa': 'E02000169',\n",
       "  'lau2': 'E09000007',\n",
       "  'pfa': 'E23000001'}}"
      ]
     },
     "execution_count": 10,
     "metadata": {},
     "output_type": "execute_result"
    }
   ],
   "source": [
    "api_response['result']"
   ]
  },
  {
   "attachments": {},
   "cell_type": "markdown",
   "metadata": {},
   "source": [
    "# Post Request"
   ]
  },
  {
   "cell_type": "code",
   "execution_count": 12,
   "metadata": {},
   "outputs": [],
   "source": [
    "post_request = {\"postcodes\" : [\"OX49 5NU\", \"M32 0JG\", \"NE30 1DP\"]}\n",
    "json_body=json.dumps(post_request) # dumps = dump string, converts python to json"
   ]
  },
  {
   "cell_type": "code",
   "execution_count": 13,
   "metadata": {},
   "outputs": [
    {
     "data": {
      "text/plain": [
       "'{\"postcodes\": [\"OX49 5NU\", \"M32 0JG\", \"NE30 1DP\"]}'"
      ]
     },
     "execution_count": 13,
     "metadata": {},
     "output_type": "execute_result"
    }
   ],
   "source": [
    "json_body"
   ]
  },
  {
   "cell_type": "code",
   "execution_count": 14,
   "metadata": {},
   "outputs": [
    {
     "data": {
      "text/plain": [
       "200"
      ]
     },
     "execution_count": 14,
     "metadata": {},
     "output_type": "execute_result"
    }
   ],
   "source": [
    "headers = {'Content-Type': 'application/json'} # headers are necessary for post requests\n",
    "URL ='https://api.postcodes.io/postcodes'\n",
    "post_multi_response=requests.post(URL, headers=headers,data=json_body) # post request to postcodes.io API with json body\n",
    "post_multi_response.status_code"
   ]
  },
  {
   "cell_type": "code",
   "execution_count": 15,
   "metadata": {},
   "outputs": [
    {
     "data": {
      "text/plain": [
       "{'status': 200,\n",
       " 'result': [{'query': 'OX49 5NU',\n",
       "   'result': {'postcode': 'OX49 5NU',\n",
       "    'quality': 1,\n",
       "    'eastings': 464447,\n",
       "    'northings': 195647,\n",
       "    'country': 'England',\n",
       "    'nhs_ha': 'South Central',\n",
       "    'longitude': -1.069752,\n",
       "    'latitude': 51.655929,\n",
       "    'european_electoral_region': 'South East',\n",
       "    'primary_care_trust': 'Oxfordshire',\n",
       "    'region': 'South East',\n",
       "    'lsoa': 'South Oxfordshire 011B',\n",
       "    'msoa': 'South Oxfordshire 011',\n",
       "    'incode': '5NU',\n",
       "    'outcode': 'OX49',\n",
       "    'parliamentary_constituency': 'Henley',\n",
       "    'admin_district': 'South Oxfordshire',\n",
       "    'parish': 'Brightwell Baldwin',\n",
       "    'admin_county': 'Oxfordshire',\n",
       "    'date_of_introduction': '200010',\n",
       "    'admin_ward': 'Chalgrove',\n",
       "    'ced': 'Chalgrove and Watlington',\n",
       "    'ccg': 'NHS Buckinghamshire, Oxfordshire and Berkshire West',\n",
       "    'nuts': 'Oxfordshire CC',\n",
       "    'pfa': 'Thames Valley',\n",
       "    'codes': {'admin_district': 'E07000179',\n",
       "     'admin_county': 'E10000025',\n",
       "     'admin_ward': 'E05009735',\n",
       "     'parish': 'E04008109',\n",
       "     'parliamentary_constituency': 'E14000742',\n",
       "     'ccg': 'E38000136',\n",
       "     'ccg_id': '10Q',\n",
       "     'ced': 'E58001732',\n",
       "     'nuts': 'TLJ14',\n",
       "     'lsoa': 'E01028601',\n",
       "     'msoa': 'E02005968',\n",
       "     'lau2': 'E07000179',\n",
       "     'pfa': 'E23000029'}}},\n",
       "  {'query': 'M32 0JG',\n",
       "   'result': {'postcode': 'M32 0JG',\n",
       "    'quality': 1,\n",
       "    'eastings': 379988,\n",
       "    'northings': 395476,\n",
       "    'country': 'England',\n",
       "    'nhs_ha': 'North West',\n",
       "    'longitude': -2.302836,\n",
       "    'latitude': 53.455654,\n",
       "    'european_electoral_region': 'North West',\n",
       "    'primary_care_trust': 'Trafford',\n",
       "    'region': 'North West',\n",
       "    'lsoa': 'Trafford 003C',\n",
       "    'msoa': 'Trafford 003',\n",
       "    'incode': '0JG',\n",
       "    'outcode': 'M32',\n",
       "    'parliamentary_constituency': 'Stretford and Urmston',\n",
       "    'admin_district': 'Trafford',\n",
       "    'parish': 'Trafford, unparished area',\n",
       "    'admin_county': None,\n",
       "    'date_of_introduction': '198001',\n",
       "    'admin_ward': 'Gorse Hill',\n",
       "    'ced': None,\n",
       "    'ccg': 'NHS Greater Manchester',\n",
       "    'nuts': 'Greater Manchester South West',\n",
       "    'pfa': 'Greater Manchester',\n",
       "    'codes': {'admin_district': 'E08000009',\n",
       "     'admin_county': 'E99999999',\n",
       "     'admin_ward': 'E05000829',\n",
       "     'parish': 'E43000163',\n",
       "     'parliamentary_constituency': 'E14000979',\n",
       "     'ccg': 'E38000187',\n",
       "     'ccg_id': '02A',\n",
       "     'ced': 'E99999999',\n",
       "     'nuts': 'TLD34',\n",
       "     'lsoa': 'E01006187',\n",
       "     'msoa': 'E02001261',\n",
       "     'lau2': 'E08000009',\n",
       "     'pfa': 'E23000005'}}},\n",
       "  {'query': 'NE30 1DP',\n",
       "   'result': {'postcode': 'NE30 1DP',\n",
       "    'quality': 1,\n",
       "    'eastings': 435958,\n",
       "    'northings': 568671,\n",
       "    'country': 'England',\n",
       "    'nhs_ha': 'North East',\n",
       "    'longitude': -1.439269,\n",
       "    'latitude': 55.011303,\n",
       "    'european_electoral_region': 'North East',\n",
       "    'primary_care_trust': 'North Tyneside',\n",
       "    'region': 'North East',\n",
       "    'lsoa': 'North Tyneside 016C',\n",
       "    'msoa': 'North Tyneside 016',\n",
       "    'incode': '1DP',\n",
       "    'outcode': 'NE30',\n",
       "    'parliamentary_constituency': 'Tynemouth',\n",
       "    'admin_district': 'North Tyneside',\n",
       "    'parish': 'North Tyneside, unparished area',\n",
       "    'admin_county': None,\n",
       "    'date_of_introduction': '201303',\n",
       "    'admin_ward': 'Tynemouth',\n",
       "    'ced': None,\n",
       "    'ccg': 'NHS North East and North Cumbria',\n",
       "    'nuts': 'Tyneside',\n",
       "    'pfa': 'Northumbria',\n",
       "    'codes': {'admin_district': 'E08000022',\n",
       "     'admin_county': 'E99999999',\n",
       "     'admin_ward': 'E05001130',\n",
       "     'parish': 'E43000176',\n",
       "     'parliamentary_constituency': 'E14001006',\n",
       "     'ccg': 'E38000127',\n",
       "     'ccg_id': '99C',\n",
       "     'ced': 'E99999999',\n",
       "     'nuts': 'TLC22',\n",
       "     'lsoa': 'E01008561',\n",
       "     'msoa': 'E02001753',\n",
       "     'lau2': 'E08000022',\n",
       "     'pfa': 'E23000007'}}}]}"
      ]
     },
     "execution_count": 15,
     "metadata": {},
     "output_type": "execute_result"
    }
   ],
   "source": [
    "post_multi_response.json()"
   ]
  },
  {
   "cell_type": "code",
   "execution_count": 17,
   "metadata": {},
   "outputs": [
    {
     "name": "stdout",
     "output_type": "stream",
     "text": [
      "Field with the most Nobel Prizes for women: {'Chemistry': 7, 'Literature': 17, 'Peace': 18, 'Physics': 4, 'Physiology or Medicine': 12, 'Economic Sciences': 2}\n"
     ]
    }
   ],
   "source": [
    "# Define the API endpoint\n",
    "\n",
    "female_url = \"http://api.nobelprize.org/2.1/laureates?limit=100&gender=female\"\n",
    "\n",
    "\n",
    "\n",
    "\n",
    "# Send a GET request to the API endpoint\n",
    "\n",
    "response = requests.get(female_url)\n",
    "\n",
    "\n",
    "# Convert the JSON response to a Python object\n",
    "\n",
    "data = response.json()\n",
    "\n",
    "\n",
    "# Count the number of prizes in each field\n",
    "\n",
    "fields = {}\n",
    "\n",
    "for laureate in data[\"laureates\"]:\n",
    "    field = laureate[\"nobelPrizes\"][0]['category']['en']\n",
    "    fields[field] = fields.get(field, 0) + 1\n",
    "\n",
    "# Determine the field with the most prizes for women\n",
    "\n",
    "# Print the result\n",
    "\n",
    "print(f\"Field with the most Nobel Prizes for women: {fields}\")"
   ]
  }
 ],
 "metadata": {
  "kernelspec": {
   "display_name": "Python 3",
   "language": "python",
   "name": "python3"
  },
  "language_info": {
   "codemirror_mode": {
    "name": "ipython",
    "version": 3
   },
   "file_extension": ".py",
   "mimetype": "text/x-python",
   "name": "python",
   "nbconvert_exporter": "python",
   "pygments_lexer": "ipython3",
   "version": "3.10.6"
  },
  "orig_nbformat": 4
 },
 "nbformat": 4,
 "nbformat_minor": 2
}
