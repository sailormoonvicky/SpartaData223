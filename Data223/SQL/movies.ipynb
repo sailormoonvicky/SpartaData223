{
    "metadata": {
        "kernelspec": {
            "name": "SQL",
            "display_name": "SQL",
            "language": "sql"
        },
        "language_info": {
            "name": "sql",
            "version": ""
        }
    },
    "nbformat_minor": 2,
    "nbformat": 4,
    "cells": [
        {
            "cell_type": "markdown",
            "source": [
                "Create a database for film table exercise:"
            ],
            "metadata": {
                "azdata_cell_guid": "35c6c787-ec27-4508-95df-43871e2a007a"
            },
            "attachments": {}
        },
        {
            "cell_type": "code",
            "source": [
                "CREATE DATABASE sparta_demo;"
            ],
            "metadata": {
                "azdata_cell_guid": "010afe02-c579-4161-b17b-3d46863b4101",
                "language": "sql"
            },
            "outputs": [
                {
                    "output_type": "display_data",
                    "data": {
                        "text/html": "Commands completed successfully."
                    },
                    "metadata": {}
                },
                {
                    "output_type": "display_data",
                    "data": {
                        "text/html": "Total execution time: 00:00:00.596"
                    },
                    "metadata": {}
                }
            ],
            "execution_count": 1
        },
        {
            "cell_type": "code",
            "source": [
                "USE sparta_demo"
            ],
            "metadata": {
                "language": "sql",
                "azdata_cell_guid": "e8e33622-ff48-4f51-91e0-74dbd2e5a1d5"
            },
            "outputs": [
                {
                    "output_type": "display_data",
                    "data": {
                        "text/html": "Commands completed successfully."
                    },
                    "metadata": {}
                },
                {
                    "output_type": "display_data",
                    "data": {
                        "text/html": "Total execution time: 00:00:00.004"
                    },
                    "metadata": {}
                }
            ],
            "execution_count": 13
        },
        {
            "cell_type": "markdown",
            "source": [
                "Create a table with given column tiles:"
            ],
            "metadata": {
                "language": "sql",
                "azdata_cell_guid": "b9611f03-d58f-4593-9893-5f977c178a91"
            },
            "attachments": {}
        },
        {
            "cell_type": "code",
            "source": [
                "DROP TABLE IF EXISTS films;\n",
                "CREATE TABLE films (\n",
                "    id INT PRIMARY KEY IDENTITY (1,1),\n",
                "    film_name VARCHAR(50) UNIQUE NOT NULL,\n",
                "    film_type VARCHAR (10),\n",
                "    date_of_release DATE,\n",
                "    director_id INT FOREIGN KEY REFERENCES directors(id),\n",
                "    writer VARCHAR(20),\n",
                "    star VARCHAR(20),\n",
                "    film_language VARCHAR(20),\n",
                "    official_website VARCHAR(200),\n",
                "    plot_summary VARCHAR(200)\n",
                ")"
            ],
            "metadata": {
                "language": "sql",
                "azdata_cell_guid": "749bec6e-8b05-43ea-a5c3-d6ba0151fbbc",
                "tags": []
            },
            "outputs": [
                {
                    "output_type": "display_data",
                    "data": {
                        "text/html": "Commands completed successfully."
                    },
                    "metadata": {}
                },
                {
                    "output_type": "display_data",
                    "data": {
                        "text/html": "Total execution time: 00:00:00.019"
                    },
                    "metadata": {}
                }
            ],
            "execution_count": 20
        },
        {
            "cell_type": "markdown",
            "source": [
                "Add data to the table"
            ],
            "metadata": {
                "language": "sql",
                "azdata_cell_guid": "16ce6f78-5dfd-4810-ba7d-bd9989a37dcc"
            },
            "attachments": {}
        },
        {
            "cell_type": "code",
            "source": [
                "INSERT INTO films (\n",
                "    film_name, film_type, date_of_release, director, writer, star,\n",
                "    film_language, official_website, plot_summary\n",
                ") VALUES \n",
                "('The Shawshank Redemption', 'Drama', '1994-10-14', 'Frank Darabont',\n",
                "'Stephen King', 'Tim Robbins', 'English',\n",
                "'https://www.imdb.com/title/tt0111161/?pf_rd_m=A2FGELUUNOQJNL&pf_rd_p=1a264172-ae11-42e4-8ef7-7fed1973bb8f&pf_rd_r=W8MDQ7R2DADQXQPGBW7E&pf_rd_s=center-1&pf_rd_t=15506&pf_rd_i=top&ref_=ext_shr_lnk',\n",
                "'two convicts form a friendship, seeking consolation and, eventually, redemption through basic compassion');"
            ],
            "metadata": {
                "language": "sql",
                "azdata_cell_guid": "9ae921e5-2d13-48b6-bf22-940db821e2f2"
            },
            "outputs": [
                {
                    "output_type": "display_data",
                    "data": {
                        "text/html": "(1 row affected)"
                    },
                    "metadata": {}
                },
                {
                    "output_type": "display_data",
                    "data": {
                        "text/html": "Total execution time: 00:00:00.037"
                    },
                    "metadata": {}
                }
            ],
            "execution_count": 22
        },
        {
            "cell_type": "code",
            "source": [
                "INSERT INTO films (\n",
                "    film_name, film_type, date_of_release, director, writer, star,\n",
                "    film_language, official_website, plot_summary\n",
                ") VALUES \n",
                "('The Godfather', 'Crime', '1972-03-24', 'Francis Ford Coppola', 'Mario Puzo',\n",
                "'Marlon Brando', 'English',\n",
                "'https://www.imdb.com/title/tt0068646/?pf_rd_m=A2FGELUUNOQJNL&pf_rd_p=1a264172-ae11-42e4-8ef7-7fed1973bb8f&pf_rd_r=W8MDQ7R2DADQXQPGBW7E&pf_rd_s=center-1&pf_rd_t=15506&pf_rd_i=top&ref_=ext_shr_lnk',\n",
                "'The aging patriarch of an organized crime dynasty in postwar New York City transfers control of his clandestine empire to his reluctant youngest son.'),\n",
                "('The Dark Knight', 'Action', '2008-07-18', 'Christopher Nolan', 'Jonathan Nolan',\n",
                "'Heath Ledger', 'English',\n",
                "'https://www.imdb.com/title/tt0468569/?pf_rd_m=A2FGELUUNOQJNL&pf_rd_p=1a264172-ae11-42e4-8ef7-7fed1973bb8f&pf_rd_r=W8MDQ7R2DADQXQPGBW7E&pf_rd_s=center-1&pf_rd_t=15506&pf_rd_i=top&ref_=ext_shr_lnk',\n",
                "'When the menace known as the Joker wreaks havoc and chaos on the people of Gotham'\n",
                "),\n",
                "('12 Angry Men', 'Crime', '1957-04-10', 'Sidney Lumet', 'Reginald Rose',\n",
                "'Henry Fonda', 'English',\n",
                "'https://www.imdb.com/title/tt0050083/?pf_rd_m=A2FGELUUNOQJNL&pf_rd_p=1a264172-ae11-42e4-8ef7-7fed1973bb8f&pf_rd_r=W8MDQ7R2DADQXQPGBW7E&pf_rd_s=center-1&pf_rd_t=15506&pf_rd_i=top&ref_=ext_shr_lnk',\n",
                "'The jury in a New York City murder trial is frustrated by a single member whose skeptical caution forces them to more carefully'\n",
                ");"
            ],
            "metadata": {
                "language": "sql",
                "azdata_cell_guid": "b51d70f2-d67e-4694-9f25-4fe3960b327f"
            },
            "outputs": [
                {
                    "output_type": "display_data",
                    "data": {
                        "text/html": "(3 rows affected)"
                    },
                    "metadata": {}
                },
                {
                    "output_type": "display_data",
                    "data": {
                        "text/html": "Total execution time: 00:00:00.027"
                    },
                    "metadata": {}
                }
            ],
            "execution_count": 23
        },
        {
            "cell_type": "code",
            "source": [
                "SELECT * FROM films;"
            ],
            "metadata": {
                "language": "sql",
                "azdata_cell_guid": "d7095dff-32c1-4f26-9c36-eb4f364c3df3"
            },
            "outputs": [
                {
                    "output_type": "display_data",
                    "data": {
                        "text/html": "(4 rows affected)"
                    },
                    "metadata": {}
                },
                {
                    "output_type": "display_data",
                    "data": {
                        "text/html": "Total execution time: 00:00:00.031"
                    },
                    "metadata": {}
                },
                {
                    "output_type": "execute_result",
                    "metadata": {},
                    "execution_count": 24,
                    "data": {
                        "application/vnd.dataresource+json": {
                            "schema": {
                                "fields": [
                                    {
                                        "name": "id"
                                    },
                                    {
                                        "name": "film_name"
                                    },
                                    {
                                        "name": "film_type"
                                    },
                                    {
                                        "name": "date_of_release"
                                    },
                                    {
                                        "name": "director"
                                    },
                                    {
                                        "name": "writer"
                                    },
                                    {
                                        "name": "star"
                                    },
                                    {
                                        "name": "film_language"
                                    },
                                    {
                                        "name": "official_website"
                                    },
                                    {
                                        "name": "plot_summary"
                                    }
                                ]
                            },
                            "data": [
                                {
                                    "0": "1",
                                    "1": "The Shawshank Redemption",
                                    "2": "Drama",
                                    "3": "1994-10-14",
                                    "4": "Frank Darabont",
                                    "5": "Stephen King",
                                    "6": "Tim Robbins",
                                    "7": "English",
                                    "8": "https://www.imdb.com/title/tt0111161/?pf_rd_m=A2FGELUUNOQJNL&pf_rd_p=1a264172-ae11-42e4-8ef7-7fed1973bb8f&pf_rd_r=W8MDQ7R2DADQXQPGBW7E&pf_rd_s=center-1&pf_rd_t=15506&pf_rd_i=top&ref_=ext_shr_lnk",
                                    "9": "two convicts form a friendship, seeking consolation and, eventually, redemption through basic compassion"
                                },
                                {
                                    "0": "2",
                                    "1": "The Godfather",
                                    "2": "Crime",
                                    "3": "1972-03-24",
                                    "4": "Francis Ford Coppola",
                                    "5": "Mario Puzo",
                                    "6": "Marlon Brando",
                                    "7": "English",
                                    "8": "https://www.imdb.com/title/tt0068646/?pf_rd_m=A2FGELUUNOQJNL&pf_rd_p=1a264172-ae11-42e4-8ef7-7fed1973bb8f&pf_rd_r=W8MDQ7R2DADQXQPGBW7E&pf_rd_s=center-1&pf_rd_t=15506&pf_rd_i=top&ref_=ext_shr_lnk",
                                    "9": "The aging patriarch of an organized crime dynasty in postwar New York City transfers control of his clandestine empire to his reluctant youngest son."
                                },
                                {
                                    "0": "3",
                                    "1": "The Dark Knight",
                                    "2": "Action",
                                    "3": "2008-07-18",
                                    "4": "Christopher Nolan",
                                    "5": "Jonathan Nolan",
                                    "6": "Heath Ledger",
                                    "7": "English",
                                    "8": "https://www.imdb.com/title/tt0468569/?pf_rd_m=A2FGELUUNOQJNL&pf_rd_p=1a264172-ae11-42e4-8ef7-7fed1973bb8f&pf_rd_r=W8MDQ7R2DADQXQPGBW7E&pf_rd_s=center-1&pf_rd_t=15506&pf_rd_i=top&ref_=ext_shr_lnk",
                                    "9": "When the menace known as the Joker wreaks havoc and chaos on the people of Gotham"
                                },
                                {
                                    "0": "4",
                                    "1": "12 Angry Men",
                                    "2": "Crime",
                                    "3": "1957-04-10",
                                    "4": "Sidney Lumet",
                                    "5": "Reginald Rose",
                                    "6": "Henry Fonda",
                                    "7": "English",
                                    "8": "https://www.imdb.com/title/tt0050083/?pf_rd_m=A2FGELUUNOQJNL&pf_rd_p=1a264172-ae11-42e4-8ef7-7fed1973bb8f&pf_rd_r=W8MDQ7R2DADQXQPGBW7E&pf_rd_s=center-1&pf_rd_t=15506&pf_rd_i=top&ref_=ext_shr_lnk",
                                    "9": "The jury in a New York City murder trial is frustrated by a single member whose skeptical caution forces them to more carefully"
                                }
                            ]
                        },
                        "text/html": [
                            "<table>",
                            "<tr><th>id</th><th>film_name</th><th>film_type</th><th>date_of_release</th><th>director</th><th>writer</th><th>star</th><th>film_language</th><th>official_website</th><th>plot_summary</th></tr>",
                            "<tr><td>1</td><td>The Shawshank Redemption</td><td>Drama</td><td>1994-10-14</td><td>Frank Darabont</td><td>Stephen King</td><td>Tim Robbins</td><td>English</td><td>https://www.imdb.com/title/tt0111161/?pf_rd_m=A2FGELUUNOQJNL&amp;pf_rd_p=1a264172-ae11-42e4-8ef7-7fed1973bb8f&amp;pf_rd_r=W8MDQ7R2DADQXQPGBW7E&amp;pf_rd_s=center-1&amp;pf_rd_t=15506&amp;pf_rd_i=top&amp;ref_=ext_shr_lnk</td><td>two convicts form a friendship, seeking consolation and, eventually, redemption through basic compassion</td></tr>",
                            "<tr><td>2</td><td>The Godfather</td><td>Crime</td><td>1972-03-24</td><td>Francis Ford Coppola</td><td>Mario Puzo</td><td>Marlon Brando</td><td>English</td><td>https://www.imdb.com/title/tt0068646/?pf_rd_m=A2FGELUUNOQJNL&amp;pf_rd_p=1a264172-ae11-42e4-8ef7-7fed1973bb8f&amp;pf_rd_r=W8MDQ7R2DADQXQPGBW7E&amp;pf_rd_s=center-1&amp;pf_rd_t=15506&amp;pf_rd_i=top&amp;ref_=ext_shr_lnk</td><td>The aging patriarch of an organized crime dynasty in postwar New York City transfers control of his clandestine empire to his reluctant youngest son.</td></tr>",
                            "<tr><td>3</td><td>The Dark Knight</td><td>Action</td><td>2008-07-18</td><td>Christopher Nolan</td><td>Jonathan Nolan</td><td>Heath Ledger</td><td>English</td><td>https://www.imdb.com/title/tt0468569/?pf_rd_m=A2FGELUUNOQJNL&amp;pf_rd_p=1a264172-ae11-42e4-8ef7-7fed1973bb8f&amp;pf_rd_r=W8MDQ7R2DADQXQPGBW7E&amp;pf_rd_s=center-1&amp;pf_rd_t=15506&amp;pf_rd_i=top&amp;ref_=ext_shr_lnk</td><td>When the menace known as the Joker wreaks havoc and chaos on the people of Gotham</td></tr>",
                            "<tr><td>4</td><td>12 Angry Men</td><td>Crime</td><td>1957-04-10</td><td>Sidney Lumet</td><td>Reginald Rose</td><td>Henry Fonda</td><td>English</td><td>https://www.imdb.com/title/tt0050083/?pf_rd_m=A2FGELUUNOQJNL&amp;pf_rd_p=1a264172-ae11-42e4-8ef7-7fed1973bb8f&amp;pf_rd_r=W8MDQ7R2DADQXQPGBW7E&amp;pf_rd_s=center-1&amp;pf_rd_t=15506&amp;pf_rd_i=top&amp;ref_=ext_shr_lnk</td><td>The jury in a New York City murder trial is frustrated by a single member whose skeptical caution forces them to more carefully</td></tr>",
                            "</table>"
                        ]
                    }
                }
            ],
            "execution_count": 24
        },
        {
            "cell_type": "markdown",
            "source": [
                "Create a new table of directors"
            ],
            "metadata": {
                "language": "sql",
                "azdata_cell_guid": "5bd11d57-eaf2-4496-a009-f37b91fab859"
            },
            "attachments": {}
        },
        {
            "cell_type": "code",
            "source": [
                "DROP TABLE IF EXISTS directors\n",
                "CREATE TABLE directors (\n",
                "    id INT PRIMARY KEY IDENTITY(100,1),\n",
                "    full_name VARCHAR(20),\n",
                "    date_of_birth DATE,\n",
                "    nation VARCHAR(15),\n",
                ");"
            ],
            "metadata": {
                "language": "sql",
                "azdata_cell_guid": "55056f66-fd4e-4ae0-b4d1-fe8b121ee5b0"
            },
            "outputs": [
                {
                    "output_type": "display_data",
                    "data": {
                        "text/html": "Commands completed successfully."
                    },
                    "metadata": {}
                },
                {
                    "output_type": "display_data",
                    "data": {
                        "text/html": "Total execution time: 00:00:00.041"
                    },
                    "metadata": {}
                }
            ],
            "execution_count": 25
        },
        {
            "cell_type": "markdown",
            "source": [
                "Insert values into directors table"
            ],
            "metadata": {
                "language": "sql",
                "azdata_cell_guid": "f801d7f3-0387-472c-97e9-3fa22f44b318"
            },
            "attachments": {}
        },
        {
            "cell_type": "code",
            "source": [
                "INSERT directors (\n",
                "    full_name, date_of_birth, nation\n",
                ") VALUES \n",
                "('Martin Scorses', '1942-11-17', 'United States, Italy'),\n",
                "('Christopher Nolan', '1970-07-30', 'United Kingdom, United States'),"
            ],
            "metadata": {
                "language": "sql",
                "azdata_cell_guid": "8c2fcf6d-e63e-4b8c-8680-c060a14c5390"
            },
            "outputs": [],
            "execution_count": null
        }
    ]
}