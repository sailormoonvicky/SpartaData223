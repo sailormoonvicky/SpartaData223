{
    "metadata": {
        "kernelspec": {
            "name": "SQL",
            "display_name": "SQL",
            "language": "sql"
        },
        "language_info": {
            "name": "sql",
            "version": ""
        }
    },
    "nbformat_minor": 2,
    "nbformat": 4,
    "cells": [
        {
            "cell_type": "markdown",
            "source": [
                "Create table people"
            ],
            "metadata": {
                "azdata_cell_guid": "cd09d4fc-8573-493d-a465-3c926cf4345e"
            },
            "attachments": {}
        },
        {
            "cell_type": "code",
            "source": [
                "DROP TABLE IF EXISTS peoples\n",
                "CREATE TABLE peoples (\n",
                "    id INT PRIMARY KEY IDENTITY (1,1),\n",
                "    name VARCHAR(10),\n",
                "    status VARCHAR(20),\n",
                "    email VARCHAR(50),\n",
                "    phone CHAR(11),\n",
                "    course_id VARCHAR(10) FOREIGN KEY REFERENCES courses(id)\n",
                ");"
            ],
            "metadata": {
                "azdata_cell_guid": "94d02d1f-c2b2-4404-8a77-dec38d976035",
                "language": "sql"
            },
            "outputs": [
                {
                    "output_type": "error",
                    "ename": "",
                    "evalue": "Msg 3726, Level 16, State 1, Line 1\nCould not drop object 'peoples' because it is referenced by a FOREIGN KEY constraint.",
                    "traceback": []
                },
                {
                    "output_type": "error",
                    "ename": "",
                    "evalue": "Msg 2714, Level 16, State 6, Line 2\nThere is already an object named 'peoples' in the database.",
                    "traceback": []
                },
                {
                    "output_type": "display_data",
                    "data": {
                        "text/html": "Total execution time: 00:00:00.042"
                    },
                    "metadata": {}
                }
            ],
            "execution_count": 8
        },
        {
            "cell_type": "markdown",
            "source": [
                "Create table courses"
            ],
            "metadata": {
                "language": "sql",
                "azdata_cell_guid": "8e4afcd9-07e9-480a-b2b3-517adb93d9bc"
            },
            "attachments": {}
        },
        {
            "cell_type": "code",
            "source": [
                "DROP TABLE IF EXISTS courses\n",
                "CREATE TABLE courses (\n",
                "    id VARCHAR(10) PRIMARY KEY,\n",
                "    name VARCHAR(20),\n",
                "    trainer_id VARCHAR(10) FOREIGN KEY REFERENCES trainers(id),\n",
                "    module_id VARCHAR(10) FOREIGN KEY REFERENCES modules(id)\n",
                ");"
            ],
            "metadata": {
                "language": "sql",
                "azdata_cell_guid": "4fa0f0ce-6609-4a89-a110-6aadb6617557"
            },
            "outputs": [
                {
                    "output_type": "error",
                    "ename": "",
                    "evalue": "Msg 3726, Level 16, State 1, Line 1\nCould not drop object 'courses' because it is referenced by a FOREIGN KEY constraint.",
                    "traceback": []
                },
                {
                    "output_type": "error",
                    "ename": "",
                    "evalue": "Msg 2714, Level 16, State 6, Line 2\nThere is already an object named 'courses' in the database.",
                    "traceback": []
                },
                {
                    "output_type": "display_data",
                    "data": {
                        "text/html": "Total execution time: 00:00:00.025"
                    },
                    "metadata": {}
                }
            ],
            "execution_count": 24
        },
        {
            "cell_type": "markdown",
            "source": [
                "Create trainer table"
            ],
            "metadata": {
                "language": "sql",
                "azdata_cell_guid": "7c4926b6-a40d-48f2-82de-18b144127ddf"
            },
            "attachments": {}
        },
        {
            "cell_type": "code",
            "source": [
                "DROP TABLE IF EXISTS trainers\n",
                "CREATE TABLE trainers(\n",
                "    id VARCHAR(10) PRIMARY KEY,\n",
                "    name VARCHAR(10),\n",
                "    email VARCHAR(50),\n",
                "    phone CHAR(11),\n",
                ");"
            ],
            "metadata": {
                "language": "sql",
                "azdata_cell_guid": "a8c0fb2b-1b91-4139-9802-e9570e4e8522"
            },
            "outputs": [
                {
                    "output_type": "error",
                    "ename": "",
                    "evalue": "Msg 3726, Level 16, State 1, Line 1\nCould not drop object 'trainers' because it is referenced by a FOREIGN KEY constraint.",
                    "traceback": []
                },
                {
                    "output_type": "error",
                    "ename": "",
                    "evalue": "Msg 2714, Level 16, State 6, Line 2\nThere is already an object named 'trainers' in the database.",
                    "traceback": []
                },
                {
                    "output_type": "display_data",
                    "data": {
                        "text/html": "Total execution time: 00:00:00.008"
                    },
                    "metadata": {}
                }
            ],
            "execution_count": 12
        },
        {
            "cell_type": "markdown",
            "source": [
                "Create modules table"
            ],
            "metadata": {
                "language": "sql",
                "azdata_cell_guid": "52d1a0b7-3e3d-4c47-b9c6-6834157d63b0"
            },
            "attachments": {}
        },
        {
            "cell_type": "code",
            "source": [
                "DROP TABLE IF EXISTS modules\n",
                "CREATE TABLE modules (\n",
                "    id VARCHAR(10) PRIMARY KEY,\n",
                "    name VARCHAR(20)\n",
                ");"
            ],
            "metadata": {
                "language": "sql",
                "azdata_cell_guid": "8710d6c5-02a7-4334-b768-331753aaa0e1"
            },
            "outputs": [
                {
                    "output_type": "display_data",
                    "data": {
                        "text/html": "Commands completed successfully."
                    },
                    "metadata": {}
                },
                {
                    "output_type": "display_data",
                    "data": {
                        "text/html": "Total execution time: 00:00:00.013"
                    },
                    "metadata": {}
                }
            ],
            "execution_count": 2
        },
        {
            "cell_type": "markdown",
            "source": [
                "Create clients table"
            ],
            "metadata": {
                "language": "sql",
                "azdata_cell_guid": "c3e94a55-94ec-4138-a3da-d87ba1c86fee"
            },
            "attachments": {}
        },
        {
            "cell_type": "code",
            "source": [
                "DROP TABLE IF EXISTS clients\n",
                "CREATE TABLE clients (\n",
                "    id VARCHAR(10) PRIMARY KEY,\n",
                "    name VARCHAR(20),\n",
                "    people_id INT FOREIGN KEY REFERENCES peoples(id)\n",
                ");"
            ],
            "metadata": {
                "language": "sql",
                "azdata_cell_guid": "fcf8e139-8d9e-4f41-a552-3e28c22e37c5"
            },
            "outputs": [
                {
                    "output_type": "display_data",
                    "data": {
                        "text/html": "Commands completed successfully."
                    },
                    "metadata": {}
                },
                {
                    "output_type": "display_data",
                    "data": {
                        "text/html": "Total execution time: 00:00:00.015"
                    },
                    "metadata": {}
                }
            ],
            "execution_count": 6
        },
        {
            "cell_type": "markdown",
            "source": [
                "Insert values into trainers table"
            ],
            "metadata": {
                "language": "sql",
                "azdata_cell_guid": "42ef3256-04b4-4689-ac9b-55ac4ca302a1"
            },
            "attachments": {}
        },
        {
            "cell_type": "code",
            "source": [
                "INSERT INTO trainers (\n",
                "    id,name,emial,phone\n",
                ") VALUES\n",
                "('t1','David','d@spartaglobal.com','07467289176'),\n",
                "('t2','Alan','a@spartaglobal.com','07294092578'),\n",
                "('t3','Paula','p@spartaglobal.com','07120989092');"
            ],
            "metadata": {
                "language": "sql",
                "azdata_cell_guid": "fce244da-7804-4554-bc64-658c241bde30"
            },
            "outputs": [
                {
                    "output_type": "display_data",
                    "data": {
                        "text/html": "(3 rows affected)"
                    },
                    "metadata": {}
                },
                {
                    "output_type": "display_data",
                    "data": {
                        "text/html": "Total execution time: 00:00:00.013"
                    },
                    "metadata": {}
                }
            ],
            "execution_count": 13
        },
        {
            "cell_type": "code",
            "source": [
                "SELECT * FROM trainers;"
            ],
            "metadata": {
                "language": "sql",
                "azdata_cell_guid": "797373cd-8527-4f36-9d07-a85a61e6e148"
            },
            "outputs": [
                {
                    "output_type": "display_data",
                    "data": {
                        "text/html": "(3 rows affected)"
                    },
                    "metadata": {}
                },
                {
                    "output_type": "display_data",
                    "data": {
                        "text/html": "Total execution time: 00:00:00.014"
                    },
                    "metadata": {}
                },
                {
                    "output_type": "execute_result",
                    "execution_count": 16,
                    "data": {
                        "application/vnd.dataresource+json": {
                            "schema": {
                                "fields": [
                                    {
                                        "name": "id"
                                    },
                                    {
                                        "name": "name"
                                    },
                                    {
                                        "name": "emial"
                                    },
                                    {
                                        "name": "phone"
                                    }
                                ]
                            },
                            "data": [
                                {
                                    "0": "t1",
                                    "1": "David",
                                    "2": "d@spartaglobal.com",
                                    "3": "07467289176"
                                },
                                {
                                    "0": "t2",
                                    "1": "Alan",
                                    "2": "a@spartaglobal.com",
                                    "3": "07294092578"
                                },
                                {
                                    "0": "t3",
                                    "1": "Paula",
                                    "2": "p@spartaglobal.com",
                                    "3": "07120989092"
                                }
                            ]
                        },
                        "text/html": "<table><tr><th>id</th><th>name</th><th>emial</th><th>phone</th></tr><tr><td>t1</td><td>David</td><td>d@spartaglobal.com</td><td>07467289176</td></tr><tr><td>t2</td><td>Alan</td><td>a@spartaglobal.com</td><td>07294092578</td></tr><tr><td>t3</td><td>Paula</td><td>p@spartaglobal.com</td><td>07120989092</td></tr></table>"
                    },
                    "metadata": {}
                }
            ],
            "execution_count": 16
        },
        {
            "cell_type": "markdown",
            "source": [
                "Insert values into modules table"
            ],
            "metadata": {
                "language": "sql",
                "azdata_cell_guid": "a8aaef7a-e055-49ea-9603-0150ea249e80"
            },
            "attachments": {}
        },
        {
            "cell_type": "code",
            "source": [
                "INSERT INTO modules (\n",
                "    id,name\n",
                ") VALUES \n",
                "('m1','Data'),\n",
                "('m2','Development'),\n",
                "('m3','BusinessIntelligence');"
            ],
            "metadata": {
                "language": "sql",
                "azdata_cell_guid": "c79040e1-4f7e-4f46-b3b7-b9484b44ed89"
            },
            "outputs": [
                {
                    "output_type": "display_data",
                    "data": {
                        "text/html": "(3 rows affected)"
                    },
                    "metadata": {}
                },
                {
                    "output_type": "display_data",
                    "data": {
                        "text/html": "Total execution time: 00:00:00.015"
                    },
                    "metadata": {}
                }
            ],
            "execution_count": 15
        },
        {
            "cell_type": "code",
            "source": [
                "SELECT * FROM modules;"
            ],
            "metadata": {
                "language": "sql",
                "azdata_cell_guid": "3594081b-e17e-413f-9612-bf48bcca8e00"
            },
            "outputs": [
                {
                    "output_type": "display_data",
                    "data": {
                        "text/html": "(3 rows affected)"
                    },
                    "metadata": {}
                },
                {
                    "output_type": "display_data",
                    "data": {
                        "text/html": "Total execution time: 00:00:00.009"
                    },
                    "metadata": {}
                },
                {
                    "output_type": "execute_result",
                    "execution_count": 17,
                    "data": {
                        "application/vnd.dataresource+json": {
                            "schema": {
                                "fields": [
                                    {
                                        "name": "id"
                                    },
                                    {
                                        "name": "name"
                                    }
                                ]
                            },
                            "data": [
                                {
                                    "0": "m1",
                                    "1": "Data"
                                },
                                {
                                    "0": "m2",
                                    "1": "Development"
                                },
                                {
                                    "0": "m3",
                                    "1": "BusinessIntelligence"
                                }
                            ]
                        },
                        "text/html": "<table><tr><th>id</th><th>name</th></tr><tr><td>m1</td><td>Data</td></tr><tr><td>m2</td><td>Development</td></tr><tr><td>m3</td><td>BusinessIntelligence</td></tr></table>"
                    },
                    "metadata": {}
                }
            ],
            "execution_count": 17
        },
        {
            "cell_type": "markdown",
            "source": [
                "Insert values into courses table"
            ],
            "metadata": {
                "language": "sql",
                "azdata_cell_guid": "490e0204-3561-47a8-9e74-7eaf6446a137"
            },
            "attachments": {}
        },
        {
            "cell_type": "code",
            "source": [
                "INSERT INTO courses (\n",
                "    id,name ,trainer_id,module_id\n",
                ") VALUES\n",
                "('c1','DataEng' ,'t2','m1'),\n",
                "('c2','JavaDevo','t1','m2'),\n",
                "('c3','DataAny' ,'t3','m3');"
            ],
            "metadata": {
                "language": "sql",
                "azdata_cell_guid": "905cd664-af2c-4150-b7f8-aa90f2821c9b"
            },
            "outputs": [
                {
                    "output_type": "display_data",
                    "data": {
                        "text/html": "(3 rows affected)"
                    },
                    "metadata": {}
                },
                {
                    "output_type": "display_data",
                    "data": {
                        "text/html": "Total execution time: 00:00:00.022"
                    },
                    "metadata": {}
                }
            ],
            "execution_count": 19
        },
        {
            "cell_type": "code",
            "source": [
                "SELECT * FROM courses;"
            ],
            "metadata": {
                "language": "sql",
                "azdata_cell_guid": "8f37a6e6-2eab-42ff-9986-e0dc2ce4c277"
            },
            "outputs": [
                {
                    "output_type": "display_data",
                    "data": {
                        "text/html": "(3 rows affected)"
                    },
                    "metadata": {}
                },
                {
                    "output_type": "display_data",
                    "data": {
                        "text/html": "Total execution time: 00:00:00.026"
                    },
                    "metadata": {}
                },
                {
                    "output_type": "execute_result",
                    "execution_count": 20,
                    "data": {
                        "application/vnd.dataresource+json": {
                            "schema": {
                                "fields": [
                                    {
                                        "name": "id"
                                    },
                                    {
                                        "name": "name"
                                    },
                                    {
                                        "name": "trainer_id"
                                    },
                                    {
                                        "name": "module_id"
                                    }
                                ]
                            },
                            "data": [
                                {
                                    "0": "c1",
                                    "1": "DataEng",
                                    "2": "t2",
                                    "3": "m1"
                                },
                                {
                                    "0": "c2",
                                    "1": "JavaDevo",
                                    "2": "t1",
                                    "3": "m2"
                                },
                                {
                                    "0": "c3",
                                    "1": "DataAny",
                                    "2": "t3",
                                    "3": "m3"
                                }
                            ]
                        },
                        "text/html": "<table><tr><th>id</th><th>name</th><th>trainer_id</th><th>module_id</th></tr><tr><td>c1</td><td>DataEng</td><td>t2</td><td>m1</td></tr><tr><td>c2</td><td>JavaDevo</td><td>t1</td><td>m2</td></tr><tr><td>c3</td><td>DataAny</td><td>t3</td><td>m3</td></tr></table>"
                    },
                    "metadata": {}
                }
            ],
            "execution_count": 20
        },
        {
            "cell_type": "markdown",
            "source": [
                "Insert values into peoples table"
            ],
            "metadata": {
                "language": "sql",
                "azdata_cell_guid": "67a5f20b-6a35-40c0-ba20-5f7e1e5e9155"
            },
            "attachments": {}
        },
        {
            "cell_type": "code",
            "source": [
                "INSERT INTO peoples (\n",
                "    name ,status,email ,phone,course_id\n",
                ") VALUES\n",
                "('Sarah','Training','s@spartaglobal.com','07837019346','c3'),\n",
                "('Joe','Pre-assignment','j@spartaglobal.com','07358108572','c1'),\n",
                "('Bill','Placement','b@spartaglobal.com','07529671926','c2');"
            ],
            "metadata": {
                "language": "sql",
                "azdata_cell_guid": "c9720278-bc9d-46a0-a1d4-f5c8fb62ace2"
            },
            "outputs": [
                {
                    "output_type": "display_data",
                    "data": {
                        "text/html": "(3 rows affected)"
                    },
                    "metadata": {}
                },
                {
                    "output_type": "display_data",
                    "data": {
                        "text/html": "Total execution time: 00:00:00.009"
                    },
                    "metadata": {}
                }
            ],
            "execution_count": 21
        },
        {
            "cell_type": "code",
            "source": [
                "SELECT * FROM peoples;"
            ],
            "metadata": {
                "language": "sql",
                "azdata_cell_guid": "d9b38ff3-6d01-4ceb-8b35-9af8c64c4c98"
            },
            "outputs": [
                {
                    "output_type": "display_data",
                    "data": {
                        "text/html": "(3 rows affected)"
                    },
                    "metadata": {}
                },
                {
                    "output_type": "display_data",
                    "data": {
                        "text/html": "Total execution time: 00:00:00.010"
                    },
                    "metadata": {}
                },
                {
                    "output_type": "execute_result",
                    "execution_count": 22,
                    "data": {
                        "application/vnd.dataresource+json": {
                            "schema": {
                                "fields": [
                                    {
                                        "name": "id"
                                    },
                                    {
                                        "name": "name"
                                    },
                                    {
                                        "name": "status"
                                    },
                                    {
                                        "name": "email"
                                    },
                                    {
                                        "name": "phone"
                                    },
                                    {
                                        "name": "course_id"
                                    }
                                ]
                            },
                            "data": [
                                {
                                    "0": "2",
                                    "1": "Sarah",
                                    "2": "Training",
                                    "3": "s@spartaglobal.com",
                                    "4": "07837019346",
                                    "5": "c3"
                                },
                                {
                                    "0": "3",
                                    "1": "Joe",
                                    "2": "Pre-assignment",
                                    "3": "j@spartaglobal.com",
                                    "4": "07358108572",
                                    "5": "c1"
                                },
                                {
                                    "0": "4",
                                    "1": "Bill",
                                    "2": "Placement",
                                    "3": "b@spartaglobal.com",
                                    "4": "07529671926",
                                    "5": "c2"
                                }
                            ]
                        },
                        "text/html": "<table><tr><th>id</th><th>name</th><th>status</th><th>email</th><th>phone</th><th>course_id</th></tr><tr><td>2</td><td>Sarah</td><td>Training</td><td>s@spartaglobal.com</td><td>07837019346</td><td>c3</td></tr><tr><td>3</td><td>Joe</td><td>Pre-assignment</td><td>j@spartaglobal.com</td><td>07358108572</td><td>c1</td></tr><tr><td>4</td><td>Bill</td><td>Placement</td><td>b@spartaglobal.com</td><td>07529671926</td><td>c2</td></tr></table>"
                    },
                    "metadata": {}
                }
            ],
            "execution_count": 22
        },
        {
            "cell_type": "markdown",
            "source": [
                "Insert values into clients table"
            ],
            "metadata": {
                "language": "sql",
                "azdata_cell_guid": "389cacf2-902d-4f55-a6d9-3e9ab5afe22e"
            },
            "attachments": {}
        },
        {
            "cell_type": "code",
            "source": [
                "INSERT INTO clients (\n",
                "    id,name,people_id\n",
                ") VALUES\n",
                "('cl1','Barclays',3),\n",
                "('cl2','Apple',NULL),\n",
                "('cl3','Tesco',NULL);\n",
                ""
            ],
            "metadata": {
                "language": "sql",
                "azdata_cell_guid": "a71b86a3-c13b-4092-a9ce-142171d62a3a"
            },
            "outputs": [
                {
                    "output_type": "display_data",
                    "data": {
                        "text/html": "(3 rows affected)"
                    },
                    "metadata": {}
                },
                {
                    "output_type": "display_data",
                    "data": {
                        "text/html": "Total execution time: 00:00:00.036"
                    },
                    "metadata": {}
                }
            ],
            "execution_count": 32
        },
        {
            "cell_type": "code",
            "source": [
                "SELECT * FROM clients;"
            ],
            "metadata": {
                "language": "sql",
                "azdata_cell_guid": "c11e2a11-aa6b-4d1f-9e13-6d6031371e9c"
            },
            "outputs": [
                {
                    "output_type": "display_data",
                    "data": {
                        "text/html": "(3 rows affected)"
                    },
                    "metadata": {}
                },
                {
                    "output_type": "display_data",
                    "data": {
                        "text/html": "Total execution time: 00:00:00.019"
                    },
                    "metadata": {}
                },
                {
                    "output_type": "execute_result",
                    "execution_count": 33,
                    "data": {
                        "application/vnd.dataresource+json": {
                            "schema": {
                                "fields": [
                                    {
                                        "name": "id"
                                    },
                                    {
                                        "name": "name"
                                    },
                                    {
                                        "name": "people_id"
                                    }
                                ]
                            },
                            "data": [
                                {
                                    "0": "cl1",
                                    "1": "Barclays",
                                    "2": "3"
                                },
                                {
                                    "0": "cl2",
                                    "1": "Apple",
                                    "2": "NULL"
                                },
                                {
                                    "0": "cl3",
                                    "1": "Tesco",
                                    "2": "NULL"
                                }
                            ]
                        },
                        "text/html": "<table><tr><th>id</th><th>name</th><th>people_id</th></tr><tr><td>cl1</td><td>Barclays</td><td>3</td></tr><tr><td>cl2</td><td>Apple</td><td>NULL</td></tr><tr><td>cl3</td><td>Tesco</td><td>NULL</td></tr></table>"
                    },
                    "metadata": {}
                }
            ],
            "execution_count": 33
        }
    ]
}