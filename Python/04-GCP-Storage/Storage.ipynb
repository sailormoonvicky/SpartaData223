{
 "cells": [
  {
   "cell_type": "code",
   "execution_count": 2,
   "metadata": {},
   "outputs": [],
   "source": [
    "from google.cloud import storage\n",
    "import os"
   ]
  },
  {
   "cell_type": "code",
   "execution_count": 9,
   "metadata": {},
   "outputs": [
    {
     "data": {
      "text/plain": [
       "'/Users/zhenghanhu/code/sailormoonvicky/Keys/le-wagon-ds-365112-acf40a5797b7.json'"
      ]
     },
     "execution_count": 9,
     "metadata": {},
     "output_type": "execute_result"
    }
   ],
   "source": [
    "# point where is my json key\n",
    "os.environ[\"GOOGLE_APPLICATION_CREDENTIALS\"]"
   ]
  },
  {
   "cell_type": "code",
   "execution_count": 4,
   "metadata": {},
   "outputs": [
    {
     "name": "stdout",
     "output_type": "stream",
     "text": [
      "<Bucket: sparta_data233_vicky>\n",
      "<Blob: sparta_data233_vicky, 2-Aurélien-Géron-Hands-On-Machine-Learning-with-Scikit-Learn-Keras-and-Tensorflow_-Concepts-Tools-and-Techniques-to-Build-Intelligent-Systems-O’Reilly-Media-2019.pdf, 1683285353011880>\n",
      "<Blob: sparta_data233_vicky, hamlet.txt, 1683285551697470>\n"
     ]
    }
   ],
   "source": [
    "# Create a credentials object using the key file\n",
    "os.environ[\"GOOGLE_APPLICATION_CREDENTIALS\"]='gcp.json'\n",
    "\n",
    "bucket_name = 'sparta_data233_vicky' # name of the bucket in GCP\n",
    "\n",
    "# create a client object\n",
    "storage_client = storage.Client()\n",
    "\n",
    "for bucket in storage_client.list_buckets():\n",
    "    print(bucket)\n",
    "\n",
    "blobs = storage_client.list_blobs(bucket_name)\n",
    "for blob in blobs:\n",
    "    print(blob)"
   ]
  },
  {
   "cell_type": "code",
   "execution_count": null,
   "metadata": {},
   "outputs": [],
   "source": [
    "# Create a credentials object using the key file\n",
    "creds = Credentials.from_service_account_file('gcp.json')"
   ]
  }
 ],
 "metadata": {
  "kernelspec": {
   "display_name": "lewagon",
   "language": "python",
   "name": "python3"
  },
  "language_info": {
   "codemirror_mode": {
    "name": "ipython",
    "version": 3
   },
   "file_extension": ".py",
   "mimetype": "text/x-python",
   "name": "python",
   "nbconvert_exporter": "python",
   "pygments_lexer": "ipython3",
   "version": "3.10.6"
  },
  "orig_nbformat": 4
 },
 "nbformat": 4,
 "nbformat_minor": 2
}
