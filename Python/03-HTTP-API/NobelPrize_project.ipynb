{
 "cells": [
  {
   "attachments": {},
   "cell_type": "markdown",
   "metadata": {},
   "source": [
    "## What is the distribution of the gender for Nobel Prize?"
   ]
  },
  {
   "cell_type": "code",
   "execution_count": 21,
   "metadata": {},
   "outputs": [],
   "source": [
    "import requests\n",
    "import json\n",
    "import matplotlib.pyplot as plt\n",
    "import seaborn as sns\n",
    "import pandas as pd"
   ]
  },
  {
   "attachments": {},
   "cell_type": "markdown",
   "metadata": {},
   "source": [
    "### The number of female laureates\n",
    "to get the request from API"
   ]
  },
  {
   "cell_type": "code",
   "execution_count": 13,
   "metadata": {},
   "outputs": [],
   "source": [
    "female_url = \"http://api.nobelprize.org/2.1/laureates?limit=100&gender=female\"\n",
    "female_request = requests.get(female_url)\n",
    "female_response = female_request.json()"
   ]
  },
  {
   "attachments": {},
   "cell_type": "markdown",
   "metadata": {},
   "source": [
    "Deal with the JSON with python"
   ]
  },
  {
   "cell_type": "code",
   "execution_count": 14,
   "metadata": {},
   "outputs": [
    {
     "data": {
      "text/plain": [
       "60"
      ]
     },
     "execution_count": 14,
     "metadata": {},
     "output_type": "execute_result"
    }
   ],
   "source": [
    "len(female_response['laureates'])"
   ]
  },
  {
   "attachments": {},
   "cell_type": "markdown",
   "metadata": {},
   "source": [
    "### The number of male laureates\n",
    "To get the request from API"
   ]
  },
  {
   "cell_type": "code",
   "execution_count": 15,
   "metadata": {},
   "outputs": [],
   "source": [
    "male_url=\"http://api.nobelprize.org/2.1/laureates?limit=1000&gender=male\"\n",
    "male_request = requests.get(male_url)\n",
    "male_response = male_request.json()"
   ]
  },
  {
   "attachments": {},
   "cell_type": "markdown",
   "metadata": {},
   "source": [
    "Deal with JSON with python"
   ]
  },
  {
   "cell_type": "code",
   "execution_count": 16,
   "metadata": {},
   "outputs": [
    {
     "data": {
      "text/plain": [
       "894"
      ]
     },
     "execution_count": 16,
     "metadata": {},
     "output_type": "execute_result"
    }
   ],
   "source": [
    "len(male_response['laureates'])"
   ]
  },
  {
   "attachments": {},
   "cell_type": "markdown",
   "metadata": {},
   "source": [
    "## The number of \"other\" laureates\n",
    "To get the request from API"
   ]
  },
  {
   "cell_type": "code",
   "execution_count": 17,
   "metadata": {},
   "outputs": [],
   "source": [
    "other_url=\"http://api.nobelprize.org/2.1/laureates?limit=100&gender=other\"\n",
    "other_request = requests.get(other_url)\n",
    "other_response = other_request.json()"
   ]
  },
  {
   "attachments": {},
   "cell_type": "markdown",
   "metadata": {},
   "source": [
    "Deal with JSON with python"
   ]
  },
  {
   "cell_type": "code",
   "execution_count": 18,
   "metadata": {},
   "outputs": [
    {
     "data": {
      "text/plain": [
       "27"
      ]
     },
     "execution_count": 18,
     "metadata": {},
     "output_type": "execute_result"
    }
   ],
   "source": [
    "len(other_response['laureates'])"
   ]
  },
  {
   "cell_type": "code",
   "execution_count": 35,
   "metadata": {},
   "outputs": [
    {
     "data": {
      "text/html": [
       "<div>\n",
       "<style scoped>\n",
       "    .dataframe tbody tr th:only-of-type {\n",
       "        vertical-align: middle;\n",
       "    }\n",
       "\n",
       "    .dataframe tbody tr th {\n",
       "        vertical-align: top;\n",
       "    }\n",
       "\n",
       "    .dataframe thead th {\n",
       "        text-align: right;\n",
       "    }\n",
       "</style>\n",
       "<table border=\"1\" class=\"dataframe\">\n",
       "  <thead>\n",
       "    <tr style=\"text-align: right;\">\n",
       "      <th></th>\n",
       "      <th>male</th>\n",
       "      <th>female</th>\n",
       "      <th>other</th>\n",
       "    </tr>\n",
       "  </thead>\n",
       "  <tbody>\n",
       "    <tr>\n",
       "      <th>0</th>\n",
       "      <td>894</td>\n",
       "      <td>60</td>\n",
       "      <td>27</td>\n",
       "    </tr>\n",
       "  </tbody>\n",
       "</table>\n",
       "</div>"
      ],
      "text/plain": [
       "   male  female  other\n",
       "0   894      60     27"
      ]
     },
     "execution_count": 35,
     "metadata": {},
     "output_type": "execute_result"
    }
   ],
   "source": [
    "data={'male':[894], 'female':[60], 'other':[27]}\n",
    "df=pd.DataFrame(data)\n",
    "df"
   ]
  },
  {
   "cell_type": "code",
   "execution_count": 39,
   "metadata": {},
   "outputs": [
    {
     "data": {
      "image/png": "[encoded data removed]",
      "text/plain": [
       "<Figure size 640x480 with 1 Axes>"
      ]
     },
     "metadata": {},
     "output_type": "display_data"
    }
   ],
   "source": [
    "sns.barplot(data=df);"
   ]
  },
  {
   "attachments": {},
   "cell_type": "markdown",
   "metadata": {},
   "source": [
    "Bagga's questions"
   ]
  },
  {
   "cell_type": "code",
   "execution_count": 2,
   "metadata": {},
   "outputs": [
    {
     "name": "stdout",
     "output_type": "stream",
     "text": [
      "Field with the most Nobel Prizes for women: {'Chemistry': 7, 'Literature': 17, 'Peace': 18, 'Physics': 4, 'Physiology or Medicine': 12, 'Economic Sciences': 2}\n"
     ]
    }
   ],
   "source": [
    "# Define the API endpoint\n",
    "import requests\n",
    "\n",
    "female_url = \"http://api.nobelprize.org/2.1/laureates?limit=100&gender=female\"\n",
    "\n",
    "\n",
    "\n",
    "\n",
    "# Send a GET request to the API endpoint\n",
    "\n",
    "response = requests.get(female_url)\n",
    "\n",
    "\n",
    "# Convert the JSON response to a Python object\n",
    "\n",
    "data = response.json()\n",
    "\n",
    "\n",
    "# Count the number of prizes in each field\n",
    "\n",
    "fields = {}\n",
    "\n",
    "for laureate in data[\"laureates\"]:\n",
    "    field = laureate[\"nobelPrizes\"][0]['category']['en']\n",
    "    fields[field] = fields.get(field, 0) + 1\n",
    "\n",
    "# Determine the field with the most prizes for women\n",
    "\n",
    "# Print the result\n",
    "\n",
    "print(f\"Field with the most Nobel Prizes for women: {fields}\")"
   ]
  },
  {
   "attachments": {},
   "cell_type": "markdown",
   "metadata": {},
   "source": [
    "Arif's code"
   ]
  },
  {
   "cell_type": "code",
   "execution_count": null,
   "metadata": {},
   "outputs": [],
   "source": [
    "\n",
    "\n",
    "\n",
    "import requests\n",
    "\n",
    "import json\n",
    "\n",
    "\n",
    "\n",
    "\n",
    "response = requests.get('https://api.nobelprize.org/v1/laureate.json')\n",
    "\n",
    "\n",
    "\n",
    "\n",
    "data = response.json()\n",
    "\n",
    "\n",
    "\n",
    "\n",
    "laureate_prizes = {}\n",
    "\n",
    "\n",
    "\n",
    "\n",
    "for laureate in data['laureates']:\n",
    "\n",
    "    for prize in laureate['prizes']:\n",
    "\n",
    "        if laureate['id'] in laureate_prizes:\n",
    "\n",
    "                laureate_prizes[laureate['id']] += 1\n",
    "\n",
    "        else:\n",
    "\n",
    "                laureate_prizes[laureate['id']] = 1\n",
    "\n",
    "\n",
    "\n",
    "\n",
    "\n",
    "\n",
    "\n",
    "[09:49] Mohammed Arif Uddin\n",
    "\n",
    "\n",
    "\n",
    "\n",
    "count = 0\n",
    "\n",
    "for num_prizes in laureate_prizes.values():\n",
    "\n",
    "    if num_prizes > 1:\n",
    "\n",
    "        count += 1\n",
    "\n",
    "       \n",
    "\n",
    "print(f\"{count} laureates have won more than one Nobel Prize.\")\n",
    "\n",
    "\n",
    "\n",
    "\n",
    "\n",
    "\n",
    "\n",
    "[09:49] Mohammed Arif Uddin\n",
    "\n",
    "\n",
    "\n",
    "\n",
    "count = 0\n",
    "\n",
    "for num_prizes in laureate_prizes.values():\n",
    "\n",
    "    if num_prizes > 2:\n",
    "\n",
    "        count += 1\n",
    "\n",
    "\n",
    "\n",
    "\n",
    "print(f\"{count} laureates have won more than two Nobel Prize.\")    \n",
    "\n",
    "\n"
   ]
  }
 ],
 "metadata": {
  "kernelspec": {
   "display_name": "Python 3",
   "language": "python",
   "name": "python3"
  },
  "language_info": {
   "codemirror_mode": {
    "name": "ipython",
    "version": 3
   },
   "file_extension": ".py",
   "mimetype": "text/x-python",
   "name": "python",
   "nbconvert_exporter": "python",
   "pygments_lexer": "ipython3",
   "version": "3.10.6"
  },
  "orig_nbformat": 4
 },
 "nbformat": 4,
 "nbformat_minor": 2
}
