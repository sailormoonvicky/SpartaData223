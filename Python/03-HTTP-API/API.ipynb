{
 "cells": [
  {
   "attachments": {},
   "cell_type": "markdown",
   "metadata": {},
   "source": [
    "# Get request "
   ]
  },
  {
   "cell_type": "code",
   "execution_count": 3,
   "metadata": {},
   "outputs": [],
   "source": [
    "\n",
    "import requests\n"
   ]
  },
  {
   "cell_type": "code",
   "execution_count": 4,
   "metadata": {},
   "outputs": [],
   "source": [
    "import json"
   ]
  },
  {
   "cell_type": "code",
   "execution_count": 5,
   "metadata": {},
   "outputs": [],
   "source": [
    "response = requests.get(\"https://api.postcodes.io/postcodes/NW35RL\")"
   ]
  },
  {
   "cell_type": "code",
   "execution_count": 6,
   "metadata": {},
   "outputs": [
    {
     "data": {
      "text/plain": [
       "200"
      ]
     },
     "execution_count": 6,
     "metadata": {},
     "output_type": "execute_result"
    }
   ],
   "source": [
    "response.status_code"
   ]
  },
  {
   "cell_type": "code",
   "execution_count": 7,
   "metadata": {},
   "outputs": [
    {
     "data": {
      "text/plain": [
       "requests.models.Response"
      ]
     },
     "execution_count": 7,
     "metadata": {},
     "output_type": "execute_result"
    }
   ],
   "source": [
    "type(response)"
   ]
  },
  {
   "cell_type": "code",
   "execution_count": 8,
   "metadata": {},
   "outputs": [
    {
     "data": {
      "text/plain": [
       "{'status': 200,\n",
       " 'result': {'postcode': 'NW3 5RL',\n",
       "  'quality': 1,\n",
       "  'eastings': 526322,\n",
       "  'northings': 185109,\n",
       "  'country': 'England',\n",
       "  'nhs_ha': 'London',\n",
       "  'longitude': -0.179487,\n",
       "  'latitude': 51.550738,\n",
       "  'european_electoral_region': 'London',\n",
       "  'primary_care_trust': 'Camden',\n",
       "  'region': 'London',\n",
       "  'lsoa': 'Camden 004B',\n",
       "  'msoa': 'Camden 004',\n",
       "  'incode': '5RL',\n",
       "  'outcode': 'NW3',\n",
       "  'parliamentary_constituency': 'Hampstead and Kilburn',\n",
       "  'admin_district': 'Camden',\n",
       "  'parish': 'Camden, unparished area',\n",
       "  'admin_county': None,\n",
       "  'date_of_introduction': '198001',\n",
       "  'admin_ward': 'Belsize',\n",
       "  'ced': None,\n",
       "  'ccg': 'NHS North Central London',\n",
       "  'nuts': 'Camden and City of London',\n",
       "  'pfa': 'Metropolitan Police',\n",
       "  'codes': {'admin_district': 'E09000007',\n",
       "   'admin_county': 'E99999999',\n",
       "   'admin_ward': 'E05013652',\n",
       "   'parish': 'E43000197',\n",
       "   'parliamentary_constituency': 'E14000727',\n",
       "   'ccg': 'E38000240',\n",
       "   'ccg_id': '93C',\n",
       "   'ced': 'E99999999',\n",
       "   'nuts': 'TLI31',\n",
       "   'lsoa': 'E01000879',\n",
       "   'msoa': 'E02000169',\n",
       "   'lau2': 'E09000007',\n",
       "   'pfa': 'E23000001'}}}"
      ]
     },
     "execution_count": 8,
     "metadata": {},
     "output_type": "execute_result"
    }
   ],
   "source": [
    "api_response = response.json()\n",
    "api_response"
   ]
  },
  {
   "cell_type": "code",
   "execution_count": 10,
   "metadata": {},
   "outputs": [
    {
     "data": {
      "text/plain": [
       "{'postcode': 'NW3 5RL',\n",
       " 'quality': 1,\n",
       " 'eastings': 526322,\n",
       " 'northings': 185109,\n",
       " 'country': 'England',\n",
       " 'nhs_ha': 'London',\n",
       " 'longitude': -0.179487,\n",
       " 'latitude': 51.550738,\n",
       " 'european_electoral_region': 'London',\n",
       " 'primary_care_trust': 'Camden',\n",
       " 'region': 'London',\n",
       " 'lsoa': 'Camden 004B',\n",
       " 'msoa': 'Camden 004',\n",
       " 'incode': '5RL',\n",
       " 'outcode': 'NW3',\n",
       " 'parliamentary_constituency': 'Hampstead and Kilburn',\n",
       " 'admin_district': 'Camden',\n",
       " 'parish': 'Camden, unparished area',\n",
       " 'admin_county': None,\n",
       " 'date_of_introduction': '198001',\n",
       " 'admin_ward': 'Belsize',\n",
       " 'ced': None,\n",
       " 'ccg': 'NHS North Central London',\n",
       " 'nuts': 'Camden and City of London',\n",
       " 'pfa': 'Metropolitan Police',\n",
       " 'codes': {'admin_district': 'E09000007',\n",
       "  'admin_county': 'E99999999',\n",
       "  'admin_ward': 'E05013652',\n",
       "  'parish': 'E43000197',\n",
       "  'parliamentary_constituency': 'E14000727',\n",
       "  'ccg': 'E38000240',\n",
       "  'ccg_id': '93C',\n",
       "  'ced': 'E99999999',\n",
       "  'nuts': 'TLI31',\n",
       "  'lsoa': 'E01000879',\n",
       "  'msoa': 'E02000169',\n",
       "  'lau2': 'E09000007',\n",
       "  'pfa': 'E23000001'}}"
      ]
     },
     "execution_count": 10,
     "metadata": {},
     "output_type": "execute_result"
    }
   ],
   "source": [
    "api_response['result']"
   ]
  },
  {
   "attachments": {},
   "cell_type": "markdown",
   "metadata": {},
   "source": [
    "# Post Request"
   ]
  },
  {
   "cell_type": "code",
   "execution_count": 12,
   "metadata": {},
   "outputs": [],
   "source": [
    "post_request = {\"postcodes\" : [\"OX49 5NU\", \"M32 0JG\", \"NE30 1DP\"]}\n",
    "json_body=json.dumps(post_request) # dumps = dump string, converts python to json"
   ]
  },
  {
   "cell_type": "code",
   "execution_count": 13,
   "metadata": {},
   "outputs": [
    {
     "data": {
      "text/plain": [
       "'{\"postcodes\": [\"OX49 5NU\", \"M32 0JG\", \"NE30 1DP\"]}'"
      ]
     },
     "execution_count": 13,
     "metadata": {},
     "output_type": "execute_result"
    }
   ],
   "source": [
    "json_body"
   ]
  },
  {
   "cell_type": "code",
   "execution_count": 14,
   "metadata": {},
   "outputs": [
    {
     "data": {
      "text/plain": [
       "200"
      ]
     },
     "execution_count": 14,
     "metadata": {},
     "output_type": "execute_result"
    }
   ],
   "source": [
    "headers = {'Content-Type': 'application/json'} # headers are necessary for post requests\n",
    "URL ='https://api.postcodes.io/postcodes'\n",
    "post_multi_response=requests.post(URL, headers=headers,data=json_body) # post request to postcodes.io API with json body\n",
    "post_multi_response.status_code"
   ]
  },
  {
   "cell_type": "code",
   "execution_count": 15,
   "metadata": {},
   "outputs": [
    {
     "data": {
      "text/plain": [
       "{'status': 200,\n",
       " 'result': [{'query': 'OX49 5NU',\n",
       "   'result': {'postcode': 'OX49 5NU',\n",
       "    'quality': 1,\n",
       "    'eastings': 464447,\n",
       "    'northings': 195647,\n",
       "    'country': 'England',\n",
       "    'nhs_ha': 'South Central',\n",
       "    'longitude': -1.069752,\n",
       "    'latitude': 51.655929,\n",
       "    'european_electoral_region': 'South East',\n",
       "    'primary_care_trust': 'Oxfordshire',\n",
       "    'region': 'South East',\n",
       "    'lsoa': 'South Oxfordshire 011B',\n",
       "    'msoa': 'South Oxfordshire 011',\n",
       "    'incode': '5NU',\n",
       "    'outcode': 'OX49',\n",
       "    'parliamentary_constituency': 'Henley',\n",
       "    'admin_district': 'South Oxfordshire',\n",
       "    'parish': 'Brightwell Baldwin',\n",
       "    'admin_county': 'Oxfordshire',\n",
       "    'date_of_introduction': '200010',\n",
       "    'admin_ward': 'Chalgrove',\n",
       "    'ced': 'Chalgrove and Watlington',\n",
       "    'ccg': 'NHS Buckinghamshire, Oxfordshire and Berkshire West',\n",
       "    'nuts': 'Oxfordshire CC',\n",
       "    'pfa': 'Thames Valley',\n",
       "    'codes': {'admin_district': 'E07000179',\n",
       "     'admin_county': 'E10000025',\n",
       "     'admin_ward': 'E05009735',\n",
       "     'parish': 'E04008109',\n",
       "     'parliamentary_constituency': 'E14000742',\n",
       "     'ccg': 'E38000136',\n",
       "     'ccg_id': '10Q',\n",
       "     'ced': 'E58001732',\n",
       "     'nuts': 'TLJ14',\n",
       "     'lsoa': 'E01028601',\n",
       "     'msoa': 'E02005968',\n",
       "     'lau2': 'E07000179',\n",
       "     'pfa': 'E23000029'}}},\n",
       "  {'query': 'M32 0JG',\n",
       "   'result': {'postcode': 'M32 0JG',\n",
       "    'quality': 1,\n",
       "    'eastings': 379988,\n",
       "    'northings': 395476,\n",
       "    'country': 'England',\n",
       "    'nhs_ha': 'North West',\n",
       "    'longitude': -2.302836,\n",
       "    'latitude': 53.455654,\n",
       "    'european_electoral_region': 'North West',\n",
       "    'primary_care_trust': 'Trafford',\n",
       "    'region': 'North West',\n",
       "    'lsoa': 'Trafford 003C',\n",
       "    'msoa': 'Trafford 003',\n",
       "    'incode': '0JG',\n",
       "    'outcode': 'M32',\n",
       "    'parliamentary_constituency': 'Stretford and Urmston',\n",
       "    'admin_district': 'Trafford',\n",
       "    'parish': 'Trafford, unparished area',\n",
       "    'admin_county': None,\n",
       "    'date_of_introduction': '198001',\n",
       "    'admin_ward': 'Gorse Hill',\n",
       "    'ced': None,\n",
       "    'ccg': 'NHS Greater Manchester',\n",
       "    'nuts': 'Greater Manchester South West',\n",
       "    'pfa': 'Greater Manchester',\n",
       "    'codes': {'admin_district': 'E08000009',\n",
       "     'admin_county': 'E99999999',\n",
       "     'admin_ward': 'E05000829',\n",
       "     'parish': 'E43000163',\n",
       "     'parliamentary_constituency': 'E14000979',\n",
       "     'ccg': 'E38000187',\n",
       "     'ccg_id': '02A',\n",
       "     'ced': 'E99999999',\n",
       "     'nuts': 'TLD34',\n",
       "     'lsoa': 'E01006187',\n",
       "     'msoa': 'E02001261',\n",
       "     'lau2': 'E08000009',\n",
       "     'pfa': 'E23000005'}}},\n",
       "  {'query': 'NE30 1DP',\n",
       "   'result': {'postcode': 'NE30 1DP',\n",
       "    'quality': 1,\n",
       "    'eastings': 435958,\n",
       "    'northings': 568671,\n",
       "    'country': 'England',\n",
       "    'nhs_ha': 'North East',\n",
       "    'longitude': -1.439269,\n",
       "    'latitude': 55.011303,\n",
       "    'european_electoral_region': 'North East',\n",
       "    'primary_care_trust': 'North Tyneside',\n",
       "    'region': 'North East',\n",
       "    'lsoa': 'North Tyneside 016C',\n",
       "    'msoa': 'North Tyneside 016',\n",
       "    'incode': '1DP',\n",
       "    'outcode': 'NE30',\n",
       "    'parliamentary_constituency': 'Tynemouth',\n",
       "    'admin_district': 'North Tyneside',\n",
       "    'parish': 'North Tyneside, unparished area',\n",
       "    'admin_county': None,\n",
       "    'date_of_introduction': '201303',\n",
       "    'admin_ward': 'Tynemouth',\n",
       "    'ced': None,\n",
       "    'ccg': 'NHS North East and North Cumbria',\n",
       "    'nuts': 'Tyneside',\n",
       "    'pfa': 'Northumbria',\n",
       "    'codes': {'admin_district': 'E08000022',\n",
       "     'admin_county': 'E99999999',\n",
       "     'admin_ward': 'E05001130',\n",
       "     'parish': 'E43000176',\n",
       "     'parliamentary_constituency': 'E14001006',\n",
       "     'ccg': 'E38000127',\n",
       "     'ccg_id': '99C',\n",
       "     'ced': 'E99999999',\n",
       "     'nuts': 'TLC22',\n",
       "     'lsoa': 'E01008561',\n",
       "     'msoa': 'E02001753',\n",
       "     'lau2': 'E08000022',\n",
       "     'pfa': 'E23000007'}}}]}"
      ]
     },
     "execution_count": 15,
     "metadata": {},
     "output_type": "execute_result"
    }
   ],
   "source": [
    "post_multi_response.json()"
   ]
  },
  {
   "cell_type": "code",
   "execution_count": 17,
   "metadata": {},
   "outputs": [
    {
     "name": "stdout",
     "output_type": "stream",
     "text": [
      "Field with the most Nobel Prizes for women: {'Chemistry': 7, 'Literature': 17, 'Peace': 18, 'Physics': 4, 'Physiology or Medicine': 12, 'Economic Sciences': 2}\n"
     ]
    }
   ],
   "source": [
    "# Define the API endpoint\n",
    "\n",
    "female_url = \"http://api.nobelprize.org/2.1/laureates?limit=100&gender=female\"\n",
    "\n",
    "\n",
    "\n",
    "\n",
    "# Send a GET request to the API endpoint\n",
    "\n",
    "response = requests.get(female_url)\n",
    "\n",
    "\n",
    "# Convert the JSON response to a Python object\n",
    "\n",
    "data = response.json()\n",
    "\n",
    "\n",
    "# Count the number of prizes in each field\n",
    "\n",
    "fields = {}\n",
    "\n",
    "for laureate in data[\"laureates\"]:\n",
    "    field = laureate[\"nobelPrizes\"][0]['category']['en']\n",
    "    fields[field] = fields.get(field, 0) + 1\n",
    "\n",
    "# Determine the field with the most prizes for women\n",
    "\n",
    "# Print the result\n",
    "\n",
    "print(f\"Field with the most Nobel Prizes for women: {fields}\")"
   ]
  },
  {
   "cell_type": "code",
   "execution_count": 23,
   "metadata": {},
   "outputs": [
    {
     "ename": "KeyError",
     "evalue": "'knownName'",
     "output_type": "error",
     "traceback": [
      "\u001b[0;31m---------------------------------------------------------------------------\u001b[0m",
      "\u001b[0;31mKeyError\u001b[0m                                  Traceback (most recent call last)",
      "\u001b[1;32m/Users/zhenghanhu/Data223/Python/03-HTTP-API/API.ipynb Cell 15\u001b[0m in \u001b[0;36m1\n\u001b[1;32m     <a href='vscode-notebook-cell:/Users/zhenghanhu/Data223/Python/03-HTTP-API/API.ipynb#X23sZmlsZQ%3D%3D?line=10'>11</a>\u001b[0m prizes_per_person \u001b[39m=\u001b[39m {}\n\u001b[1;32m     <a href='vscode-notebook-cell:/Users/zhenghanhu/Data223/Python/03-HTTP-API/API.ipynb#X23sZmlsZQ%3D%3D?line=12'>13</a>\u001b[0m \u001b[39mfor\u001b[39;00m laureate \u001b[39min\u001b[39;00m data[\u001b[39m'\u001b[39m\u001b[39mlaureates\u001b[39m\u001b[39m'\u001b[39m]:\n\u001b[0;32m---> <a href='vscode-notebook-cell:/Users/zhenghanhu/Data223/Python/03-HTTP-API/API.ipynb#X23sZmlsZQ%3D%3D?line=14'>15</a>\u001b[0m     \u001b[39mif\u001b[39;00m laureate[\u001b[39m'\u001b[39m\u001b[39mknownName\u001b[39m\u001b[39m'\u001b[39m][\u001b[39m'\u001b[39m\u001b[39men\u001b[39m\u001b[39m'\u001b[39m] \u001b[39min\u001b[39;00m prizes_per_person:\n\u001b[1;32m     <a href='vscode-notebook-cell:/Users/zhenghanhu/Data223/Python/03-HTTP-API/API.ipynb#X23sZmlsZQ%3D%3D?line=16'>17</a>\u001b[0m         prizes_per_person[laureate[\u001b[39m'\u001b[39m\u001b[39mknownName\u001b[39m\u001b[39m'\u001b[39m][\u001b[39m'\u001b[39m\u001b[39men\u001b[39m\u001b[39m'\u001b[39m]] \u001b[39m+\u001b[39m\u001b[39m=\u001b[39m \u001b[39m1\u001b[39m\n\u001b[1;32m     <a href='vscode-notebook-cell:/Users/zhenghanhu/Data223/Python/03-HTTP-API/API.ipynb#X23sZmlsZQ%3D%3D?line=18'>19</a>\u001b[0m     \u001b[39melse\u001b[39;00m:\n",
      "\u001b[0;31mKeyError\u001b[0m: 'knownName'"
     ]
    }
   ],
   "source": [
    "import requests\n",
    "\n",
    "import json\n",
    "\n",
    "\n",
    "response = requests.get('https://api.nobelprize.org/2.1/laureates?limit=1000')\n",
    "\n",
    "\n",
    "data = response.json()\n",
    "\n",
    "prizes_per_person = {}\n",
    "\n",
    "for laureate in data['laureates']:\n",
    "\n",
    "    if laureate['knownName']['en'] in prizes_per_person:\n",
    "\n",
    "        prizes_per_person[laureate['knownName']['en']] += 1\n",
    "\n",
    "    else:\n",
    "\n",
    "        prizes_per_person[laureate['knownName']['en']] = 1\n",
    "#print(prizes_per_person)\n",
    "count = 0\n",
    "\n",
    "for prizes in prizes_per_person.values():\n",
    "\n",
    "    if prizes > 1:\n",
    "        count += 1\n",
    "\n",
    "print(f\"{count} people have won more than one Nobel Prize.\")"
   ]
  },
  {
   "cell_type": "code",
   "execution_count": 10,
   "metadata": {},
   "outputs": [
    {
     "name": "stdout",
     "output_type": "stream",
     "text": [
      "{'745': 1, '102': 1, '779': 1, '259': 1, '1004': 1, '114': 1, '982': 1, '981': 1, '843': 1, '866': 1, '199': 1, '164': 1, '185': 1, '541': 1, '292': 1, '853': 1, '978': 1, '819': 1, '1012': 1, '729': 1, '376': 1, '730': 1, '11': 1, '628': 1, '403': 1, '26': 1, '814': 1, '465': 1, '519': 1, '513': 1, '332': 1, '304': 1, '83': 1, '1018': 1, '644': 1, '766': 1, '306': 1, '544': 1, '392': 1, '479': 1, '450': 1, '87': 1, '174': 1, '892': 1, '417': 1, '305': 1, '300': 1, '543': 1, '882': 1, '719': 1, '509': 1, '537': 1, '590': 1, '360': 1, '849': 1, '618': 1, '381': 1, '990': 1, '534': 1, '377': 1, '412': 1, '802': 1, '926': 1, '1017': 1, '768': 1, '1014': 1, '101': 1, '538': 1, '214': 1, '311': 1, '998': 1, '891': 1, '490': 1, '208': 1, '111': 1, '960': 1, '920': 1, '33': 1, '186': 1, '499': 1, '368': 1, '119': 1, '203': 1, '722': 1, '310': 1, '475': 1, '553': 1, '780': 1, '923': 1, '845': 1, '428': 1, '942': 1, '789': 1, '409': 1, '419': 1, '1021': 1, '103': 1, '936': 1, '426': 1, '1002': 1, '933': 1, '345': 1, '445': 1, '468': 1, '689': 1, '145': 1, '621': 1, '535': 1, '572': 1, '937': 1, '629': 1, '99': 1, '879': 1, '865': 1, '861': 1, '261': 1, '105': 1, '34': 1, '298': 1, '666': 1, '189': 1, '343': 1, '43': 1, '588': 1, '500': 1, '740': 1, '124': 1, '562': 1, '501': 1, '836': 1, '1015': 1, '55': 1, '1020': 1, '431': 1, '384': 1, '25': 1, '489': 1, '22': 1, '81': 1, '269': 1, '838': 1, '987': 1, '318': 1, '307': 1, '68': 1, '319': 1, '241': 1, '404': 1, '486': 1, '453': 1, '858': 1, '873': 1, '153': 1, '662': 1, '146': 1, '44': 1, '772': 1, '505': 1, '333': 1, '803': 1, '657': 1, '410': 1, '520': 1, '857': 1, '867': 1, '363': 1, '157': 1, '759': 1, '733': 1, '415': 1, '674': 1, '406': 1, '1007': 1, '423': 1, '776': 1, '928': 1, '877': 1, '997': 1, '149': 1, '567': 1, '1003': 1, '966': 1, '93': 1, '237': 1, '669': 1, '546': 1, '362': 1, '975': 1, '1006': 1, '568': 1, '74': 1, '267': 1, '962': 1, '817': 1, '230': 1, '150': 1, '1022': 1, '710': 1, '264': 1, '443': 1, '59': 1, '397': 1, '324': 1, '446': 1, '807': 1, '166': 1, '905': 1, '336': 1, '452': 1, '349': 1, '787': 1, '365': 1, '52': 1, '447': 1, '212': 1, '348': 1, '852': 1, '533': 1, '782': 1, '658': 1, '275': 1, '464': 1, '548': 1, '480': 1, '846': 1, '835': 1, '869': 1, '161': 1, '293': 1, '72': 1, '506': 1, '991': 1, '46': 1, '909': 1, '738': 1, '454': 1, '724': 1, '821': 1, '604': 1, '625': 1, '47': 1, '167': 1, '57': 1, '471': 1, '340': 1, '244': 1, '127': 1, '444': 1, '39': 1, '983': 1, '894': 1, '608': 1, '78': 1, '651': 1, '881': 1, '649': 1, '929': 1, '283': 1, '556': 1, '58': 1, '379': 1, '14': 1, '492': 1, '460': 1, '786': 1, '963': 1, '372': 1, '180': 1, '699': 1, '887': 1, '380': 1, '623': 1, '824': 1, '494': 1, '778': 1, '613': 1, '193': 1, '573': 1, '463': 1, '358': 1, '313': 1, '148': 1, '222': 1, '179': 1, '474': 1, '487': 1, '190': 1, '685': 1, '508': 1, '60': 1, '177': 1, '355': 1, '181': 1, '659': 1, '12': 1, '615': 1, '734': 1, '708': 1, '245': 1, '371': 1, '253': 1, '744': 1, '280': 1, '364': 1, '596': 1, '514': 1, '421': 1, '201': 1, '405': 1, '840': 1, '805': 1, '439': 1, '326': 1, '696': 1, '964': 1, '45': 1, '235': 1, '327': 1, '387': 1, '142': 1, '430': 1, '517': 1, '398': 1, '697': 1, '961': 1, '158': 1, '128': 1, '334': 1, '816': 1, '240': 1, '582': 1, '438': 1, '344': 1, '1001': 1, '635': 1, '576': 1, '229': 1, '213': 1, '418': 1, '810': 1, '597': 1, '972': 1, '13': 1, '1009': 1, '684': 1, '461': 1, '676': 1, '17': 1, '31': 1, '491': 1, '777': 1, '389': 1, '751': 1, '626': 1, '416': 1, '91': 1, '88': 1, '188': 1, '136': 1, '354': 1, '329': 1, '187': 1, '823': 1, '192': 1, '441': 1, '801': 1, '704': 1, '650': 1, '272': 1, '985': 1, '18': 1, '647': 1, '129': 1, '184': 1, '2': 1, '4': 1, '600': 1, '481': 1, '165': 1, '335': 1, '587': 1, '462': 1, '530': 1, '260': 1, '139': 1, '575': 1, '262': 1, '252': 1, '727': 1, '338': 1, '691': 1, '617': 1, '342': 1, '216': 1, '844': 1, '731': 1, '54': 1, '907': 1, '485': 1, '156': 1, '408': 1, '359': 1, '71': 1, '721': 1, '301': 1, '250': 1, '761': 1, '467': 1, '818': 1, '797': 1, '948': 1, '564': 1, '482': 1, '527': 1, '547': 1, '194': 1, '191': 1, '781': 1, '654': 1, '906': 1, '49': 1, '606': 1, '296': 1, '98': 1, '633': 1, '130': 1, '80': 1, '763': 1, '440': 1, '930': 1, '790': 1, '10': 1, '592': 1, '728': 1, '134': 1, '837': 1, '160': 1, '944': 1, '382': 1, '715': 1, '204': 1, '41': 1, '116': 1, '690': 1, '884': 1, '30': 1, '732': 1, '700': 1, '958': 1, '973': 1, '104': 1, '695': 1, '373': 1, '678': 1, '496': 1, '223': 1, '661': 1, '32': 1, '420': 1, '915': 1, '832': 1, '268': 1, '637': 1, '931': 1, '938': 1, '992': 1, '289': 1, '138': 1, '263': 1, '762': 1, '945': 1, '565': 1, '270': 1, '15': 1, '316': 1, '24': 1, '614': 1, '756': 1, '976': 1, '66': 1, '711': 1, '227': 1, '804': 1, '266': 1, '1013': 1, '56': 1, '247': 1, '752': 1, '288': 1, '356': 1, '712': 1, '605': 1, '205': 1, '109': 1, '566': 1, '792': 1, '314': 1, '903': 1, '291': 1, '681': 1, '507': 1, '427': 1, '634': 1, '574': 1, '563': 1, '675': 1, '664': 1, '442': 1, '746': 1, '337': 1, '144': 1, '433': 1, '560': 1, '1008': 1, '366': 1, '934': 1, '627': 1, '862': 1, '309': 1, '85': 1, '396': 1, '317': 1, '131': 1, '743': 1, '120': 1, '913': 1, '586': 1, '321': 1, '400': 1, '228': 1, '278': 1, '947': 1, '386': 1, '257': 1, '121': 1, '682': 1, '671': 1, '725': 1, '943': 1, '473': 1, '1000': 1, '126': 1, '589': 1, '749': 1, '757': 1, '378': 1, '401': 1, '850': 1, '211': 1, '758': 1, '236': 1, '895': 1, '21': 1, '694': 1, '531': 1, '523': 1, '545': 1, '735': 1, '97': 1, '484': 1, '512': 1, '132': 1, '95': 1, '820': 1, '686': 1, '200': 1, '516': 1, '77': 1, '870': 1, '775': 1, '217': 1, '855': 1, '883': 1, '510': 1, '8': 1, '221': 1, '36': 1, '459': 1, '92': 1, '472': 1, '993': 1, '825': 1, '493': 1, '607': 1, '89': 1, '239': 1, '977': 1, '536': 1, '827': 1, '914': 1, '233': 1, '29': 1, '79': 1, '1005': 1, '6': 1, '282': 1, '811': 1, '854': 1, '390': 1, '830': 1, '889': 1, '147': 1, '524': 1, '451': 1, '100': 1, '159': 1, '833': 1, '754': 1, '702': 1, '581': 1, '374': 1, '61': 1, '391': 1, '226': 1, '23': 1, '352': 1, '19': 1, '904': 1, '225': 1, '133': 1, '1019': 1, '539': 1, '705': 1, '986': 1, '984': 1, '890': 1, '939': 1, '432': 1, '279': 1, '940': 1, '974': 1, '641': 1, '552': 1, '638': 1, '688': 1, '880': 1, '798': 1, '1016': 1, '540': 1, '809': 1, '90': 1, '718': 1, '967': 1, '668': 1, '665': 1, '503': 1, '495': 1, '925': 1, '640': 1, '555': 1, '497': 1, '118': 1, '82': 1, '27': 1, '429': 1, '295': 1, '402': 1, '220': 1, '528': 1, '135': 1, '196': 1, '667': 1, '238': 1, '655': 1, '515': 1, '979': 1, '847': 1, '935': 1, '813': 1, '893': 1, '808': 1, '829': 1, '549': 1, '210': 1, '202': 1, '331': 1, '312': 1, '48': 1, '169': 1, '322': 1, '73': 1, '35': 1, '645': 1, '622': 1, '53': 1, '912': 1, '648': 1, '679': 1, '40': 1, '254': 1, '764': 1, '287': 1, '302': 1, '723': 1, '476': 1, '580': 1, '281': 1, '246': 1, '197': 1, '834': 1, '969': 1, '922': 1, '346': 1, '995': 1, '173': 1, '70': 1, '610': 1, '51': 1, '477': 1, '856': 1, '769': 1, '455': 1, '195': 1, '815': 1, '980': 1, '888': 1, '370': 1, '251': 1, '383': 1, '1023': 1, '518': 1, '351': 1, '107': 1, '9': 1, '449': 1, '5': 1, '141': 1, '3': 1, '64': 1, '561': 1, '110': 1, '583': 1, '677': 1, '385': 1, '941': 1, '511': 1, '863': 1, '466': 1, '885': 1, '753': 1, '989': 1, '713': 1, '407': 1, '526': 1, '755': 1, '774': 1, '286': 1, '140': 1, '851': 1, '949': 1, '946': 1, '448': 1, '198': 1, '215': 1, '86': 1, '276': 1, '796': 1, '698': 1, '176': 1, '182': 1, '554': 1, '435': 1, '258': 1, '28': 1, '155': 1, '996': 1, '231': 1, '308': 1, '717': 1, '151': 1, '502': 1, '714': 1, '284': 1, '771': 1, '458': 1, '848': 1, '795': 1, '75': 1, '271': 1, '799': 1, '878': 1, '896': 1, '297': 1, '701': 1, '720': 1, '232': 1, '96': 1, '709': 1, '388': 1, '112': 1, '770': 1, '399': 1, '822': 1, '806': 1, '411': 1, '609': 1, '988': 1, '422': 1, '831': 1, '456': 1, '584': 1, '234': 1, '707': 1, '294': 1, '413': 1, '791': 1, '578': 1, '76': 1, '277': 1, '577': 1, '143': 1, '742': 1, '631': 1, '393': 1, '630': 1, '643': 1, '106': 1, '299': 1, '917': 1, '652': 1, '864': 1, '672': 1, '532': 1, '579': 1, '353': 1, '876': 1, '367': 1, '113': 1, '558': 1, '875': 1, '773': 1, '639': 1, '908': 1, '273': 1, '601': 1, '680': 1, '125': 1, '84': 1, '603': 1, '339': 1, '693': 1, '488': 1, '394': 1, '37': 1, '323': 1, '219': 1, '369': 1, '320': 1, '965': 1, '285': 1, '330': 1, '341': 1, '932': 1, '437': 1, '874': 1, '375': 1, '812': 1, '108': 1, '498': 1, '737': 1, '971': 1, '765': 1, '207': 1, '163': 1, '242': 1, '457': 1, '434': 1, '910': 1, '152': 1, '115': 1, '122': 1, '569': 1, '425': 1, '436': 1, '162': 1, '1011': 1, '924': 1, '750': 1, '999': 1, '619': 1, '350': 1, '919': 1, '959': 1, '871': 1, '551': 1, '183': 1, '303': 1, '571': 1, '793': 1, '470': 1, '175': 1, '692': 1, '842': 1, '800': 1, '886': 1, '325': 1, '357': 1, '872': 1, '602': 1, '274': 1, '736': 1, '687': 1, '478': 1, '921': 1, '868': 1, '670': 1, '424': 1, '828': 1, '703': 1, '69': 1, '918': 1, '395': 1, '748': 1, '525': 1, '550': 1, '747': 1, '117': 1, '841': 1, '585': 1, '760': 1, '653': 1, '42': 1, '172': 1, '218': 1, '767': 1, '248': 1, '255': 1, '67': 1, '347': 1, '290': 1, '62': 1, '178': 1, '783': 1, '683': 1, '206': 1, '414': 1, '361': 1, '38': 1, '1': 1, '168': 1, '16': 1, '224': 1, '839': 1, '315': 1, '123': 1, '65': 1, '20': 1, '593': 1, '916': 1, '968': 1, '154': 1, '911': 1, '209': 1, '706': 1, '620': 1, '970': 1, '660': 1, '243': 1, '741': 1, '249': 1, '328': 1, '716': 1, '63': 1, '529': 1, '624': 1, '673': 1, '594': 1, '663': 1, '739': 1, '137': 1, '50': 1, '483': 1, '994': 1, '557': 1, '642': 1, '559': 1, '826': 1, '927': 1, '265': 1, '794': 1, '726': 1}\n"
     ]
    }
   ],
   "source": [
    "import requests\n",
    "\n",
    "import json\n",
    "response = requests.get('https://api.nobelprize.org/2.1/laureates?limit=1000')\n",
    "\n",
    "\n",
    "data = response.json()\n",
    "\n",
    "prizes_per_person = {}\n",
    "\n",
    "for laureate in data['laureates']:\n",
    "    if laureate['id'] in prizes_per_person:\n",
    "        prizes_per_person[laureate['id']] += 1\n",
    "        \n",
    "\n",
    "    else:\n",
    "        prizes_per_person[laureate['id']] = 1\n",
    "print(prizes_per_person)\n",
    "# count = 0\n",
    "\n",
    "# for prizes in prizes_per_person.values():\n",
    "\n",
    "#     if prizes > 1:\n",
    "#         count += 1\n",
    "\n",
    "# print(f\"{count} people have won more than one Nobel Prize.\")"
   ]
  },
  {
   "cell_type": "code",
   "execution_count": 15,
   "metadata": {},
   "outputs": [
    {
     "ename": "KeyError",
     "evalue": "'fullName'",
     "output_type": "error",
     "traceback": [
      "\u001b[0;31m---------------------------------------------------------------------------\u001b[0m",
      "\u001b[0;31mKeyError\u001b[0m                                  Traceback (most recent call last)",
      "\u001b[1;32m/Users/zhenghanhu/Data223/Python/03-HTTP-API/API.ipynb Cell 17\u001b[0m in \u001b[0;36m1\n\u001b[1;32m      <a href='vscode-notebook-cell:/Users/zhenghanhu/Data223/Python/03-HTTP-API/API.ipynb#X22sZmlsZQ%3D%3D?line=8'>9</a>\u001b[0m prizes_per_person \u001b[39m=\u001b[39m []\n\u001b[1;32m     <a href='vscode-notebook-cell:/Users/zhenghanhu/Data223/Python/03-HTTP-API/API.ipynb#X22sZmlsZQ%3D%3D?line=10'>11</a>\u001b[0m \u001b[39mfor\u001b[39;00m laureate \u001b[39min\u001b[39;00m data[\u001b[39m'\u001b[39m\u001b[39mlaureates\u001b[39m\u001b[39m'\u001b[39m]:\n\u001b[0;32m---> <a href='vscode-notebook-cell:/Users/zhenghanhu/Data223/Python/03-HTTP-API/API.ipynb#X22sZmlsZQ%3D%3D?line=11'>12</a>\u001b[0m     prizes_per_person\u001b[39m.\u001b[39mappend(laureate[\u001b[39m'\u001b[39m\u001b[39mfullName\u001b[39m\u001b[39m'\u001b[39m][\u001b[39m'\u001b[39m\u001b[39men\u001b[39m\u001b[39m'\u001b[39m])\n\u001b[1;32m     <a href='vscode-notebook-cell:/Users/zhenghanhu/Data223/Python/03-HTTP-API/API.ipynb#X22sZmlsZQ%3D%3D?line=13'>14</a>\u001b[0m \u001b[39mprint\u001b[39m(prizes_per_person)\n",
      "\u001b[0;31mKeyError\u001b[0m: 'fullName'"
     ]
    }
   ],
   "source": [
    "import requests\n",
    "\n",
    "import json\n",
    "response = requests.get('https://api.nobelprize.org/2.1/laureates?limit=1000')\n",
    "\n",
    "\n",
    "data = response.json()\n",
    "\n",
    "prizes_per_person = []\n",
    "\n",
    "for laureate in data['laureates']:\n",
    "    prizes_per_person.append(laureate['fullName']['en'])\n",
    "        \n",
    "print(prizes_per_person)\n",
    "#     else:\n",
    "#         prizes_per_person[laureate['id']] = 1\n",
    "# print(prizes_per_person)"
   ]
  },
  {
   "cell_type": "code",
   "execution_count": 17,
   "metadata": {},
   "outputs": [
    {
     "name": "stdout",
     "output_type": "stream",
     "text": [
      "0 people have won more than one Nobel Prize.\n"
     ]
    }
   ],
   "source": [
    "import requests\n",
    "\n",
    "import json\n",
    "\n",
    "\n",
    "\n",
    "\n",
    "response = requests.get('https://api.nobelprize.org/v1/laureate.json')\n",
    "\n",
    "data = response.json()\n",
    "\n",
    "\n",
    "prizes_per_person = {}\n",
    "\n",
    "\n",
    "for laureate in data['laureates']:\n",
    "\n",
    "    if laureate['id'] in prizes_per_person:\n",
    "\n",
    "        prizes_per_person[laureate['id']] += 1\n",
    "\n",
    "    else:\n",
    "\n",
    "        prizes_per_person[laureate['id']] = 1\n",
    "\n",
    "\n",
    "\n",
    "\n",
    "count = 0\n",
    "\n",
    "for prizes in prizes_per_person.values():\n",
    "\n",
    "    if prizes > 1:\n",
    "\n",
    "        count += 1\n",
    "\n",
    "\n",
    "\n",
    "\n",
    "print(f\"{count} people have won more than one Nobel Prize.\")"
   ]
  },
  {
   "cell_type": "code",
   "execution_count": 18,
   "metadata": {},
   "outputs": [],
   "source": [
    "import random"
   ]
  },
  {
   "cell_type": "code",
   "execution_count": 45,
   "metadata": {},
   "outputs": [
    {
     "data": {
      "text/plain": [
       "[{'name': 'torchic',\n",
       "  'image_url': 'https://raw.githubusercontent.com/PokeAPI/sprites/master/sprites/pokemon/255.png',\n",
       "  'type': 'fire',\n",
       "  'hp': 45,\n",
       "  'attack': 60,\n",
       "  'defense': 40,\n",
       "  'speed': 45},\n",
       " {'name': 'turtwig',\n",
       "  'image_url': 'https://raw.githubusercontent.com/PokeAPI/sprites/master/sprites/pokemon/387.png',\n",
       "  'type': 'grass',\n",
       "  'hp': 55,\n",
       "  'attack': 68,\n",
       "  'defense': 64,\n",
       "  'speed': 31},\n",
       " {'name': 'chikorita',\n",
       "  'image_url': 'https://raw.githubusercontent.com/PokeAPI/sprites/master/sprites/pokemon/152.png',\n",
       "  'type': 'grass',\n",
       "  'hp': 45,\n",
       "  'attack': 49,\n",
       "  'defense': 65,\n",
       "  'speed': 45}]"
      ]
     },
     "execution_count": 45,
     "metadata": {},
     "output_type": "execute_result"
    }
   ],
   "source": [
    "POKEAPI_URL = \"https://pokeapi.co/api/v2/pokemon/\"\n",
    "POKEMON_LIST = [\"bulbasaur\", \"charmander\", \"squirtle\", \"pikachu\", \"chikorita\", \"cyndaquil\",\n",
    "                \"totodile\", \"treecko\", \"torchic\", \"mudkip\", \"turtwig\", \"chimchar\", \"piplup\"]\n",
    "\n",
    "\n",
    "\n",
    "# Helper function to retrieve Pokemon data from PokeAPI\n",
    "def get_pokemon_data(name):\n",
    "    response = requests.get(f\"{POKEAPI_URL}{name}\").json()\n",
    "    return {\n",
    "        \"name\": response[\"name\"],\n",
    "        \"image_url\": response[\"sprites\"][\"front_default\"],\n",
    "        \"type\": response[\"types\"][0][\"type\"][\"name\"],\n",
    "        \"hp\": response[\"stats\"][0][\"base_stat\"],\n",
    "        \"attack\": response[\"stats\"][1][\"base_stat\"],\n",
    "        \"defense\": response[\"stats\"][2][\"base_stat\"],\n",
    "        \"speed\": response[\"stats\"][5][\"base_stat\"]\n",
    "    }\n",
    "cpu_pokemon = []\n",
    "for i in random.sample(range(0,len(POKEMON_LIST)),3):\n",
    "    selected_pokemon = POKEMON_LIST[i]\n",
    "    pokemon_data = get_pokemon_data(selected_pokemon)\n",
    "    cpu_pokemon.append(pokemon_data)\n",
    "cpu_pokemon"
   ]
  },
  {
   "cell_type": "code",
   "execution_count": 58,
   "metadata": {},
   "outputs": [
    {
     "data": {
      "text/plain": [
       "{'name': 'torchic',\n",
       " 'image_url': 'https://raw.githubusercontent.com/PokeAPI/sprites/master/sprites/pokemon/255.png',\n",
       " 'type': 'fire',\n",
       " 'hp': 45,\n",
       " 'attack': 60,\n",
       " 'defense': 40,\n",
       " 'speed': 45}"
      ]
     },
     "execution_count": 58,
     "metadata": {},
     "output_type": "execute_result"
    }
   ],
   "source": [
    "cpu_pokemon = POKEMON_LIST[random.randrange(len(POKEMON_LIST))]\n",
    "cpu_pokemon_data = get_pokemon_data(cpu_pokemon)\n",
    "cpu_pokemon_data"
   ]
  },
  {
   "cell_type": "code",
   "execution_count": 60,
   "metadata": {},
   "outputs": [],
   "source": [
    "def calculate_damage(attacker, defender):\n",
    "    attack = attacker[\"attack\"]  # The attack value of attacking pokemon\n",
    "    a_speed = attacker[\"speed\"]  # The speed value of attacking pokemon\n",
    "    defense = defender[\"defense\"]  # The attack value of defending pokemon\n",
    "    d_speed = defender[\"speed\"]  # The speed value of defending pokemon\n",
    "    modifier = random.uniform(0.85, 1.0)  # Apply a random damage modifier between 0.85 and 1.0\n",
    "    damage = (attack*a_speed*0.01-defense*d_speed*0.01) * modifier\n",
    "    return int(damage)"
   ]
  },
  {
   "cell_type": "code",
   "execution_count": 76,
   "metadata": {},
   "outputs": [
    {
     "name": "stdout",
     "output_type": "stream",
     "text": [
      "-1\n",
      "45\n"
     ]
    }
   ],
   "source": [
    "player_pokemon_data = {'name': 'chikorita',\n",
    "  'image_url': 'https://raw.githubusercontent.com/PokeAPI/sprites/master/sprites/pokemon/152.png',\n",
    "  'type': 'grass',\n",
    "  'hp': 45,\n",
    "  'attack': 49,\n",
    "  'defense': 65,\n",
    "  'speed': 45}\n",
    "def battle_with_cpu():\n",
    "    if random.randint(0,1)==1:\n",
    "        attacker = player_pokemon_data\n",
    "        defender = cpu_pokemon_data\n",
    "    else:\n",
    "        defender = player_pokemon_data\n",
    "        attacker = cpu_pokemon_data\n",
    "    while attacker['hp']>0 and defender['hp']>0:\n",
    "            defender['hp']=defender['hp']-calculate_damage(attacker, defender)\n",
    "            attacker['hp']=attacker['hp']-calculate_damage(defender, attacker)\n",
    "    print(defender['hp'])\n",
    "    print(attacker['hp'])\n",
    "battle_with_cpu()"
   ]
  },
  {
   "cell_type": "code",
   "execution_count": null,
   "metadata": {},
   "outputs": [],
   "source": [
    "# Define the battle logic\n",
    "def simulate_battle(player_pokemon, cpu_pokemon):\n",
    "    # Keep track of which Pokemon are still alive\n",
    "    player_alive = [True] * 3\n",
    "    cpu_alive = [True] * 3\n",
    "\n",
    " \n",
    "\n",
    "    # Keep track of which Pokemon are currently battling\n",
    "    player_active = 0\n",
    "    cpu_active = 0\n",
    "\n",
    " \n",
    "\n",
    "    # Loop until one side has no more Pokemon left\n",
    "    while any(player_alive) and any(cpu_alive):\n",
    "        # Player's turn\n",
    "        st.write(f\"{player_pokemon[player_active]['name'].capitalize()} attacks {cpu_pokemon[cpu_active]['name'].capitalize()}!\")\n",
    "        damage = player_pokemon[player_active]['attack'] - cpu_pokemon[cpu_active]['defense']\n",
    "        cpu_pokemon[cpu_active]['hp'] -= damage\n",
    "        st.write(f\"{cpu_pokemon[cpu_active]['name'].capitalize()} takes {damage} damage! HP: {cpu_pokemon[cpu_active]['hp']}\")\n",
    "        if cpu_pokemon[cpu_active]['hp'] <= 0:\n",
    "            st.write(f\"{cpu_pokemon[cpu_active]['name'].capitalize()} fainted!\")\n",
    "            cpu_alive[cpu_active] = False\n",
    "            if all(cpu_alive):\n",
    "                st.write(\"You won!\")\n",
    "                return\n",
    "            else:\n",
    "                cpu_active = cpu_alive.index(True)\n",
    "\n",
    " \n",
    "\n",
    "        # CPU's turn\n",
    "        st.write(f\"{cpu_pokemon[cpu_active]['name'].capitalize()} attacks {player_pokemon[player_active]['name'].capitalize()}!\")\n",
    "        damage = cpu_pokemon[cpu_active]['attack'] - player_pokemon[player_active]['defense']\n",
    "        player_pokemon[player_active]['hp'] -= damage\n",
    "        st.write(f\"{player_pokemon[player_active]['name'].capitalize()} takes {damage} damage! HP: {player_pokemon[player_active]['hp']}\")\n",
    "        if player_pokemon[player_active]['hp'] <= 0:\n",
    "            st.write(f\"{player_pokemon[player_active]['name'].capitalize()} fainted!\")\n",
    "            player_alive[player_active] = False\n",
    "            if all(player_alive):\n",
    "                st.write(\"You lost!\")\n",
    "                return\n",
    "            else:\n",
    "                player_active = player_alive.index(True)\n",
    "\n",
    " \n",
    "\n",
    "        # Switch Pokemon if necessary\n",
    "        if not player_alive[player_active]:\n",
    "            st.write(f\"{player_pokemon[player_active]['name'].capitalize()} fainted!\")\n",
    "            player_active = player_alive.index(True)\n",
    "            st.write(f\"Switch to {player_pokemon[player_active]['name'].capitalize()}!\")\n",
    "        if not cpu_alive[cpu_active]:\n",
    "            st.write(f\"{cpu_pokemon[cpu_active]['name'].capitalize()} fainted!\")\n",
    "            cpu_active = cpu_alive.index(True)\n",
    "            st.write(f\"{cpu_pokemon[cpu_active]['name'].capitalize()} is sent out!\")\n",
    "\n",
    "\n",
    "# Define the 1 player mode def play_1play... by Manpreet Singh Bagga\n",
    "Manpreet Singh Bagga\n",
    "16:07\n",
    "\n",
    "# Define the 1 player mode\n",
    "def play_1player_mode():\n",
    "    st.write(\"Select your 3 Pokemon:\")\n",
    "    player_pokemon = []\n",
    "    for i in range(3):\n",
    "        selected_pokemon = st.selectbox(f\"Pokemon {i+1}\", POKEMON_LIST)\n",
    "        pokemon_data = get_pokemon_data(selected_pokemon)\n",
    "        st.image(pokemon_data[\"image_url\"])\n",
    "        st.write(f\"{pokemon_data['name'].capitalize()} - Type: {pokemon_data['type']}, HP: {pokemon_data['hp']}, Attack: {pokemon_data['attack\n",
    "\n",
    "\n",
    "has context menu"
   ]
  }
 ],
 "metadata": {
  "kernelspec": {
   "display_name": "Python 3",
   "language": "python",
   "name": "python3"
  },
  "language_info": {
   "codemirror_mode": {
    "name": "ipython",
    "version": 3
   },
   "file_extension": ".py",
   "mimetype": "text/x-python",
   "name": "python",
   "nbconvert_exporter": "python",
   "pygments_lexer": "ipython3",
   "version": "3.10.6"
  },
  "orig_nbformat": 4
 },
 "nbformat": 4,
 "nbformat_minor": 2
}
