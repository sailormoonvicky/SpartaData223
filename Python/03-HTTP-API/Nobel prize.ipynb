{
 "cells": [
  {
   "attachments": {},
   "cell_type": "markdown",
   "metadata": {},
   "source": [
    "Nobel Prize"
   ]
  },
  {
   "attachments": {},
   "cell_type": "markdown",
   "metadata": {},
   "source": [
    "How many people did get more than 1 Nobel Prize?"
   ]
  },
  {
   "cell_type": "code",
   "execution_count": 3,
   "metadata": {},
   "outputs": [
    {
     "name": "stdout",
     "output_type": "stream",
     "text": [
      "7 laureates have won more than one Nobel Prize.\n"
     ]
    }
   ],
   "source": [
    "import requests\n",
    "import json\n",
    "\n",
    "response = requests.get('https://api.nobelprize.org/v1/laureate.json')\n",
    "data = response.json()\n",
    "\n",
    "\n",
    "laureate_prizes = {}\n",
    "for laureate in data['laureates']:\n",
    "\n",
    "    for prize in laureate['prizes']:\n",
    "\n",
    "        if laureate['id'] in laureate_prizes:\n",
    "\n",
    "                laureate_prizes[laureate['id']] += 1\n",
    "\n",
    "        else:\n",
    "\n",
    "                laureate_prizes[laureate['id']] = 1\n",
    "\n",
    "\n",
    "\n",
    "count = 0\n",
    "\n",
    "for num_prizes in laureate_prizes.values():\n",
    "\n",
    "    if num_prizes > 1:\n",
    "\n",
    "        count += 1\n",
    "\n",
    "       \n",
    "\n",
    "print(f\"{count} laureates have won more than one Nobel Prize.\")"
   ]
  },
  {
   "attachments": {},
   "cell_type": "markdown",
   "metadata": {},
   "source": [
    "How many people did get more than 2 Nobel Prizes?"
   ]
  },
  {
   "cell_type": "code",
   "execution_count": 4,
   "metadata": {},
   "outputs": [
    {
     "name": "stdout",
     "output_type": "stream",
     "text": [
      "1 laureates have won more than two Nobel Prize.\n"
     ]
    }
   ],
   "source": [
    "count = 0\n",
    "\n",
    "for num_prizes in laureate_prizes.values():\n",
    "\n",
    "    if num_prizes > 2:\n",
    "\n",
    "        count += 1\n",
    "\n",
    "\n",
    "\n",
    "\n",
    "print(f\"{count} laureates have won more than two Nobel Prize.\")    "
   ]
  },
  {
   "attachments": {},
   "cell_type": "markdown",
   "metadata": {},
   "source": [
    "What is the field women got most Nobel Prizes?"
   ]
  },
  {
   "cell_type": "code",
   "execution_count": 1,
   "metadata": {},
   "outputs": [
    {
     "name": "stdout",
     "output_type": "stream",
     "text": [
      "Fields with Nobel Prize winning women: {'Chemistry': 7, 'Literature': 17, 'Peace': 18, 'Physics': 4, 'Physiology or Medicine': 12, 'Economic Sciences': 2}\n",
      "Field with the most Nobel Prizes for women: Peace\n"
     ]
    }
   ],
   "source": [
    "import requests\n",
    "\n",
    "female_url = \"http://api.nobelprize.org/2.1/laureates?limit=1000&gender=female\"\n",
    "\n",
    "# Send a GET request to the API endpoint\n",
    "response = requests.get(female_url)\n",
    "\n",
    "# Convert the JSON response to a Python object\n",
    "data = response.json()\n",
    "\n",
    "\n",
    "# Count the number of prizes in each field\n",
    "fields = {}\n",
    "for laureate in data[\"laureates\"]:\n",
    "    field = laureate[\"nobelPrizes\"][0]['category']['en']\n",
    "    fields[field] = fields.get(field, 0) + 1\n",
    "\n",
    "# Determine the field with the most prizes for women\n",
    "most_prizes_field = max(fields, key=fields.get)\n",
    "\n",
    "# Print the result\n",
    "print(f\"Fields with Nobel Prize winning women: {fields}\")\n",
    "print(f\"Field with the most Nobel Prizes for women: {most_prizes_field}\")"
   ]
  },
  {
   "attachments": {},
   "cell_type": "markdown",
   "metadata": {},
   "source": [
    "What is the field men got most Nobel Prizes?"
   ]
  },
  {
   "cell_type": "code",
   "execution_count": 15,
   "metadata": {},
   "outputs": [
    {
     "name": "stdout",
     "output_type": "stream",
     "text": [
      "Fields with Nobel Prize winning men: {'Economic Sciences': 90, 'Physics': 217, 'Chemistry': 180, 'Literature': 102, 'Peace': 92, 'Physiology or Medicine': 213}\n",
      "Field with the most Nobel Prizes for men: Physics\n"
     ]
    }
   ],
   "source": [
    "import requests\n",
    "\n",
    "male_url=\"http://api.nobelprize.org/2.1/laureates?limit=1000&gender=male\"\n",
    "\n",
    "# Send a GET request to the API endpoint\n",
    "response = requests.get(male_url)\n",
    "\n",
    "# Convert the JSON response to a Python object\n",
    "data = response.json()\n",
    "\n",
    "\n",
    "# Count the number of prizes in each field\n",
    "fields = {}\n",
    "for laureate in data[\"laureates\"]:\n",
    "    field = laureate[\"nobelPrizes\"][0]['category']['en']\n",
    "    fields[field] = fields.get(field, 0) + 1\n",
    "\n",
    "# Determine the field with the most prizes for men\n",
    "most_prizes_field = max(fields, key=fields.get)\n",
    "\n",
    "# Print the result\n",
    "print(f\"Fields with Nobel Prize winning men: {fields}\")\n",
    "print(f\"Field with the most Nobel Prizes for men: {most_prizes_field}\")"
   ]
  },
  {
   "attachments": {},
   "cell_type": "markdown",
   "metadata": {},
   "source": [
    "What is the distribution of the gender for Nobel Prizes"
   ]
  },
  {
   "cell_type": "code",
   "execution_count": 36,
   "metadata": {},
   "outputs": [
    {
     "name": "stdout",
     "output_type": "stream",
     "text": [
      "Number of Nobel Prize winners by gender:\n",
      "Male winners: 894\n",
      "Female winners: 60\n",
      "Other winners: 27\n"
     ]
    }
   ],
   "source": [
    "import requests\n",
    "import json\n",
    "import matplotlib.pyplot as plt\n",
    "#import seaborn as sns\n",
    "import pandas as pd\n",
    "\n",
    "#Number of female laureates\n",
    "female_url = \"http://api.nobelprize.org/2.1/laureates?limit=100&gender=female\"\n",
    "female_request = requests.get(female_url)\n",
    "female_response = female_request.json()\n",
    "\n",
    "female_winners= len(female_response['laureates'])\n",
    "\n",
    "#Number of male laureates\n",
    "male_url=\"http://api.nobelprize.org/2.1/laureates?limit=1000&gender=male\"\n",
    "male_request = requests.get(male_url)\n",
    "male_response = male_request.json()\n",
    "\n",
    "male_winners= len(male_response['laureates'])\n",
    "\n",
    "#Number of other laureates\n",
    "other_url=\"http://api.nobelprize.org/2.1/laureates?limit=100&gender=other\"\n",
    "other_request = requests.get(other_url)\n",
    "other_response = other_request.json()\n",
    "\n",
    "other_winners= len(other_response['laureates'])\n",
    "\n",
    "\n",
    "print('Number of Nobel Prize winners by gender:')\n",
    "print('Male winners: {}'.format(male_winners))\n",
    "print('Female winners: {}'.format(female_winners))\n",
    "print('Other winners: {}'.format(other_winners))\n"
   ]
  },
  {
   "attachments": {},
   "cell_type": "markdown",
   "metadata": {},
   "source": [
    "Visualisation of Data distribution"
   ]
  },
  {
   "cell_type": "code",
   "execution_count": 34,
   "metadata": {},
   "outputs": [
    {
     "data": {
      "image/png": "[encoded data removed]",
      "text/plain": [
       "<Figure size 640x480 with 1 Axes>"
      ]
     },
     "metadata": {},
     "output_type": "display_data"
    }
   ],
   "source": [
    "#Data distribution\n",
    "data = {'male': [male_winners], 'female': [female_winners], 'other': [other_winners]}\n",
    "df = pd.DataFrame(data)\n",
    "\n",
    "df.plot(kind='bar', color=['blue', 'pink', 'green'])\n",
    "plt.title('Data Distribution', fontsize=16, fontweight='bold')\n",
    "plt.xlabel('Gender', fontsize=12)\n",
    "plt.ylabel('Count', fontsize=12)\n",
    "plt.grid(axis='y', linestyle='--')\n",
    "plt.show()"
   ]
  }
 ],
 "metadata": {
  "kernelspec": {
   "display_name": ".venv",
   "language": "python",
   "name": "python3"
  },
  "language_info": {
   "codemirror_mode": {
    "name": "ipython",
    "version": 3
   },
   "file_extension": ".py",
   "mimetype": "text/x-python",
   "name": "python",
   "nbconvert_exporter": "python",
   "pygments_lexer": "ipython3",
   "version": "3.10.6"
  },
  "orig_nbformat": 4
 },
 "nbformat": 4,
 "nbformat_minor": 2
}
