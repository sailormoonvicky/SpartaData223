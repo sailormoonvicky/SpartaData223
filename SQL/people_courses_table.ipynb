{
    "metadata": {
        "kernelspec": {
            "name": "SQL",
            "display_name": "SQL",
            "language": "sql"
        },
        "language_info": {
            "name": "sql",
            "version": ""
        }
    },
    "nbformat_minor": 2,
    "nbformat": 4,
    "cells": [
        {
            "cell_type": "code",
            "source": [
                "USE spartaserver"
            ],
            "metadata": {
                "azdata_cell_guid": "602086f8-9a61-4528-ba29-e1f7245c0f0c",
                "language": "sql"
            },
            "outputs": [],
            "execution_count": null
        },
        {
            "cell_type": "markdown",
            "source": [
                "Create trainers table"
            ],
            "metadata": {
                "azdata_cell_guid": "5c93cd31-f04d-433e-bb47-46872228d267"
            },
            "attachments": {}
        },
        {
            "cell_type": "code",
            "source": [
                "DROP TABLE IF EXISTS trainers\n",
                "CREATE TABLE trainers(\n",
                "    id VARCHAR(225) PRIMARY KEY,\n",
                "    name VARCHAR(225),\n",
                "    email VARCHAR(225),\n",
                "    phone_number CHAR(11),\n",
                ");"
            ],
            "metadata": {
                "azdata_cell_guid": "ac5dc592-868e-4a72-9dc5-f1d34ce71ae5",
                "language": "sql"
            },
            "outputs": [],
            "execution_count": null
        },
        {
            "cell_type": "markdown",
            "source": [
                "Insert values in trainers table"
            ],
            "metadata": {
                "language": "sql",
                "azdata_cell_guid": "665bd17f-5d15-4fde-a08e-1ab55c4ee031"
            },
            "attachments": {}
        },
        {
            "cell_type": "code",
            "source": [
                "INSERT INTO trainers (\n",
                "    id,name ,email,phone_number\n",
                ") VALUES\n",
                "('t1','David','d@spartaglobal.com','07467289176'),\n",
                "('t2','Alan','a@spartaglobal.com','07294092578'),\n",
                "('t3','Paula','p@spartaglobal.com','07120989092');"
            ],
            "metadata": {
                "language": "sql",
                "azdata_cell_guid": "f6eb10fd-0191-4eb5-bb9f-de5ef16286da"
            },
            "outputs": [],
            "execution_count": null
        },
        {
            "cell_type": "code",
            "source": [
                "SELECT * FROM trainers;"
            ],
            "metadata": {
                "language": "sql",
                "azdata_cell_guid": "a3f14e2f-8e9e-45c6-9361-4402ae2f1f06"
            },
            "outputs": [],
            "execution_count": null
        },
        {
            "cell_type": "markdown",
            "source": [
                "Create modules table"
            ],
            "metadata": {
                "language": "sql",
                "azdata_cell_guid": "91c153b6-b680-4ea4-ae98-c062ad2a3282"
            },
            "attachments": {}
        },
        {
            "cell_type": "code",
            "source": [
                "DROP TABLE IF EXISTS modules\n",
                "CREATE TABLE modules (\n",
                "    id VARCHAR(225) PRIMARY KEY,\n",
                "    name VARCHAR(225)\n",
                ");"
            ],
            "metadata": {
                "language": "sql",
                "azdata_cell_guid": "5aedf9fa-1d95-46c8-912d-db04068e2f0b"
            },
            "outputs": [],
            "execution_count": null
        },
        {
            "cell_type": "markdown",
            "source": [
                "Insert values into modules table"
            ],
            "metadata": {
                "language": "sql",
                "azdata_cell_guid": "0e5d7a3a-139a-47c6-8e68-dbbf600cb737"
            },
            "attachments": {}
        },
        {
            "cell_type": "code",
            "source": [
                "INSERT INTO modules (\n",
                "    id,name\n",
                ") VALUES\n",
                "('m1','Data'),\n",
                "('m2','Development'),\n",
                "('m3','Business intelligence');"
            ],
            "metadata": {
                "language": "sql",
                "azdata_cell_guid": "30faae2a-ac8b-4810-8e5e-635f1c55e24e"
            },
            "outputs": [],
            "execution_count": null
        },
        {
            "cell_type": "markdown",
            "source": [
                "Create courses table"
            ],
            "metadata": {
                "language": "sql",
                "azdata_cell_guid": "2040d625-31f1-4381-a937-32cb57a21c40"
            },
            "attachments": {}
        },
        {
            "cell_type": "code",
            "source": [
                "DROP TABLE IF EXISTS courses\n",
                "CREATE TABLE courses (\n",
                "    id VARCHAR(225) PRIMARY KEY,\n",
                "    name VARCHAR(225),\n",
                "    trainer_id VARCHAR(225) FOREIGN KEY REFERENCES trainers(id),\n",
                "    module_id VARCHAR(225) FOREIGN KEY REFERENCES modules(id)\n",
                ");"
            ],
            "metadata": {
                "language": "sql",
                "azdata_cell_guid": "0be9aff5-ee8c-4fd4-922f-b4b5c51c3840"
            },
            "outputs": [],
            "execution_count": null
        },
        {
            "cell_type": "markdown",
            "source": [
                "Insert values into course table"
            ],
            "metadata": {
                "language": "sql",
                "azdata_cell_guid": "a53d92da-e4a7-4fb3-9f01-4f494b70b464"
            },
            "attachments": {}
        },
        {
            "cell_type": "code",
            "source": [
                "INSERT INTO courses (\n",
                "    id,name ,trainer_id,module_id\n",
                ") VALUES\n",
                "('c1','Data engineering','t2','m1'),\n",
                "('c2','Java Development','t1','m2'),\n",
                "('c3','Data analyst','t3','m3');"
            ],
            "metadata": {
                "language": "sql",
                "azdata_cell_guid": "a26ef3b9-794a-4d3c-be35-84b2464f9243"
            },
            "outputs": [],
            "execution_count": null
        },
        {
            "cell_type": "markdown",
            "source": [
                "Create peoples table"
            ],
            "metadata": {
                "language": "sql",
                "azdata_cell_guid": "ba293b38-9bba-4904-b2ea-51525ad45ac1"
            },
            "attachments": {}
        },
        {
            "cell_type": "code",
            "source": [
                "DROP TABLE IF EXISTS peoples\n",
                "CREATE TABLE peoples (\n",
                "    id INT PRIMARY KEY,\n",
                "    name VARCHAR(225),\n",
                "    status VARCHAR(225),\n",
                "    email VARCHAR(225),\n",
                "    phone_number CHAR(11),\n",
                "    course_id VARCHAR(225) FOREIGN KEY REFERENCES courses(id)\n",
                ");"
            ],
            "metadata": {
                "language": "sql",
                "azdata_cell_guid": "637288ec-3635-4074-a178-a51fa19dc1a5"
            },
            "outputs": [],
            "execution_count": null
        },
        {
            "cell_type": "markdown",
            "source": [
                "Insert values into table peoples"
            ],
            "metadata": {
                "language": "sql",
                "azdata_cell_guid": "6eecdb52-f8fa-4385-99f3-bfe3fcdcdea9"
            },
            "attachments": {}
        },
        {
            "cell_type": "code",
            "source": [
                "INSERT INTO peoples (\n",
                "    id,name ,status,email ,phone_number,course_id\n",
                ") VALUES\n",
                "(1,'Sarah' ,'Training','s@spartaglobal.com','07837019346','c3'),\n",
                "(2,'Joe','Pre-assignment','j@spartaglobal.com','07358108572','c1'),\n",
                "(3,'Bill','Placement','b@spartaglobal.com','07529671926','c2');\n",
                ""
            ],
            "metadata": {
                "language": "sql",
                "azdata_cell_guid": "6bdb816b-b790-413f-ab4e-f4bb4876079e"
            },
            "outputs": [],
            "execution_count": null
        },
        {
            "cell_type": "markdown",
            "source": [
                "Create clients table"
            ],
            "metadata": {
                "language": "sql",
                "azdata_cell_guid": "0184da42-050a-419c-8e4f-6e78933818fb"
            },
            "attachments": {}
        },
        {
            "cell_type": "code",
            "source": [
                "DROP TABLE IF EXISTS clients \n",
                "CREATE TABLE clients (\n",
                "    id VARCHAR(225) PRIMARY KEY,\n",
                "    name VARCHAR(225),\n",
                "    people_id INT FOREIGN KEY REFERENCES peoples(id)\n",
                ");"
            ],
            "metadata": {
                "language": "sql",
                "azdata_cell_guid": "4cb5d1d1-2ddc-4ac8-97f3-d66be490004e"
            },
            "outputs": [],
            "execution_count": null
        },
        {
            "cell_type": "markdown",
            "source": [
                "Insert values into clients table"
            ],
            "metadata": {
                "language": "sql",
                "azdata_cell_guid": "a673df16-a1e8-4355-b154-feefdcfbb443"
            },
            "attachments": {}
        },
        {
            "cell_type": "code",
            "source": [
                "INSERT INTO clients (\n",
                "    id,name,people_id\n",
                ") VALUES \n",
                "('cl1','Barclays',3),\n",
                "('cl2','Apple',NULL),\n",
                "('cl3','Tesco',NULL);"
            ],
            "metadata": {
                "language": "sql",
                "azdata_cell_guid": "071486f7-6c4c-4e06-b6f4-59106cab418d"
            },
            "outputs": [
                {
                    "output_type": "display_data",
                    "data": {
                        "text/html": "(3 rows affected)"
                    },
                    "metadata": {}
                },
                {
                    "output_type": "display_data",
                    "data": {
                        "text/html": "Total execution time: 00:00:00.041"
                    },
                    "metadata": {}
                }
            ],
            "execution_count": 16
        }
    ]
}